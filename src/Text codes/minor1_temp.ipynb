{
  "nbformat": 4,
  "nbformat_minor": 0,
  "metadata": {
    "colab": {
      "name": "minor1-temp.ipynb",
      "provenance": [],
      "collapsed_sections": []
    },
    "kernelspec": {
      "name": "python3",
      "display_name": "Python 3"
    },
    "accelerator": "GPU"
  },
  "cells": [
    {
      "cell_type": "code",
      "metadata": {
        "colab": {
          "base_uri": "https://localhost:8080/"
        },
        "id": "YCn_1yxgMnfF",
        "outputId": "fe44de8f-81ac-436d-90fe-2e3be276c8bc"
      },
      "source": [
        "import pandas as pd\n",
        "import numpy as np\n",
        "import matplotlib.pyplot as plt\n",
        "from nltk.tokenize import word_tokenize\n",
        "from nltk.corpus import stopwords\n",
        "from nltk.stem import WordNetLemmatizer\n",
        "import nltk\n",
        "nltk.download('wordnet')\n",
        "from nltk.corpus import wordnet\n",
        "import random\n",
        "import re\n",
        "nltk.download('punkt')\n",
        "nltk.download('stopwords')\n",
        "stop_words = stopwords.words('english')\n",
        "lemmatizer = WordNetLemmatizer()\n",
        "from sklearn import preprocessing, decomposition, model_selection, metrics, pipeline\n",
        "from sklearn.feature_extraction.text import TfidfVectorizer, CountVectorizer\n",
        "from sklearn.decomposition import TruncatedSVD\n",
        "from sklearn.linear_model import LogisticRegression\n",
        "from sklearn.model_selection import train_test_split\n",
        "from sklearn.svm import SVC\n",
        "from sklearn.metrics import confusion_matrix, classification_report\n",
        "from sklearn.model_selection import cross_val_score, GridSearchCV\n",
        "from sklearn.naive_bayes import GaussianNB, MultinomialNB\n",
        "from keras.layers import GlobalMaxPooling1D, Conv1D, MaxPooling1D, Flatten, Bidirectional, SpatialDropout1D\n",
        "from keras.preprocessing import sequence, text\n",
        "from keras.callbacks import EarlyStopping\n",
        "from keras.models import Sequential\n",
        "from keras.layers.recurrent import LSTM, GRU\n",
        "from keras.layers.core import Dense, Activation, Dropout\n",
        "from keras.layers.embeddings import Embedding\n",
        "from keras.layers.normalization import BatchNormalization\n",
        "from keras.utils import np_utils"
      ],
      "execution_count": null,
      "outputs": [
        {
          "output_type": "stream",
          "text": [
            "[nltk_data] Downloading package wordnet to /root/nltk_data...\n",
            "[nltk_data]   Package wordnet is already up-to-date!\n",
            "[nltk_data] Downloading package punkt to /root/nltk_data...\n",
            "[nltk_data]   Package punkt is already up-to-date!\n",
            "[nltk_data] Downloading package stopwords to /root/nltk_data...\n",
            "[nltk_data]   Package stopwords is already up-to-date!\n"
          ],
          "name": "stdout"
        }
      ]
    },
    {
      "cell_type": "code",
      "metadata": {
        "id": "bttd9GPcM4qf"
      },
      "source": [
        "df = pd.read_excel(r'train_f.xlsx')"
      ],
      "execution_count": null,
      "outputs": []
    },
    {
      "cell_type": "code",
      "metadata": {
        "id": "SisUT1bHBwUl"
      },
      "source": [
        "test = pd.read_excel(r'test_file.xlsx')\n",
        "dev = pd.read_excel(r'dev_file.xlsx')"
      ],
      "execution_count": null,
      "outputs": []
    },
    {
      "cell_type": "code",
      "metadata": {
        "colab": {
          "base_uri": "https://localhost:8080/",
          "height": 479
        },
        "id": "P1K6RDMLM-0l",
        "outputId": "53a07323-b1e0-4623-9483-931a751349eb"
      },
      "source": [
        "df.head()"
      ],
      "execution_count": null,
      "outputs": [
        {
          "output_type": "execute_result",
          "data": {
            "text/html": [
              "<div>\n",
              "<style scoped>\n",
              "    .dataframe tbody tr th:only-of-type {\n",
              "        vertical-align: middle;\n",
              "    }\n",
              "\n",
              "    .dataframe tbody tr th {\n",
              "        vertical-align: top;\n",
              "    }\n",
              "\n",
              "    .dataframe thead th {\n",
              "        text-align: right;\n",
              "    }\n",
              "</style>\n",
              "<table border=\"1\" class=\"dataframe\">\n",
              "  <thead>\n",
              "    <tr style=\"text-align: right;\">\n",
              "      <th></th>\n",
              "      <th>Sr No.</th>\n",
              "      <th>Utterance</th>\n",
              "      <th>Speaker</th>\n",
              "      <th>Emotion</th>\n",
              "      <th>Sentiment</th>\n",
              "      <th>Dialogue_ID</th>\n",
              "      <th>Utterance_ID</th>\n",
              "      <th>Season</th>\n",
              "      <th>Episode</th>\n",
              "      <th>StartTime</th>\n",
              "      <th>EndTime</th>\n",
              "    </tr>\n",
              "  </thead>\n",
              "  <tbody>\n",
              "    <tr>\n",
              "      <th>0</th>\n",
              "      <td>1</td>\n",
              "      <td>also I was the point person on my company’s tr...</td>\n",
              "      <td>Chandler</td>\n",
              "      <td>neutral</td>\n",
              "      <td>neutral</td>\n",
              "      <td>0</td>\n",
              "      <td>0</td>\n",
              "      <td>8</td>\n",
              "      <td>21</td>\n",
              "      <td>00:16:16,059</td>\n",
              "      <td>00:16:21,731</td>\n",
              "    </tr>\n",
              "    <tr>\n",
              "      <th>1</th>\n",
              "      <td>2</td>\n",
              "      <td>You must’ve had your hands full.</td>\n",
              "      <td>The Interviewer</td>\n",
              "      <td>neutral</td>\n",
              "      <td>neutral</td>\n",
              "      <td>0</td>\n",
              "      <td>1</td>\n",
              "      <td>8</td>\n",
              "      <td>21</td>\n",
              "      <td>00:16:21,940</td>\n",
              "      <td>00:16:23,442</td>\n",
              "    </tr>\n",
              "    <tr>\n",
              "      <th>2</th>\n",
              "      <td>3</td>\n",
              "      <td>That I did. That I did.</td>\n",
              "      <td>Chandler</td>\n",
              "      <td>neutral</td>\n",
              "      <td>neutral</td>\n",
              "      <td>0</td>\n",
              "      <td>2</td>\n",
              "      <td>8</td>\n",
              "      <td>21</td>\n",
              "      <td>00:16:23,442</td>\n",
              "      <td>00:16:26,389</td>\n",
              "    </tr>\n",
              "    <tr>\n",
              "      <th>3</th>\n",
              "      <td>4</td>\n",
              "      <td>So let’s talk a little bit about your duties.</td>\n",
              "      <td>The Interviewer</td>\n",
              "      <td>neutral</td>\n",
              "      <td>neutral</td>\n",
              "      <td>0</td>\n",
              "      <td>3</td>\n",
              "      <td>8</td>\n",
              "      <td>21</td>\n",
              "      <td>00:16:26,820</td>\n",
              "      <td>00:16:29,572</td>\n",
              "    </tr>\n",
              "    <tr>\n",
              "      <th>4</th>\n",
              "      <td>5</td>\n",
              "      <td>My duties?  All right.</td>\n",
              "      <td>Chandler</td>\n",
              "      <td>surprise</td>\n",
              "      <td>positive</td>\n",
              "      <td>0</td>\n",
              "      <td>4</td>\n",
              "      <td>8</td>\n",
              "      <td>21</td>\n",
              "      <td>00:16:34,452</td>\n",
              "      <td>00:16:40,917</td>\n",
              "    </tr>\n",
              "  </tbody>\n",
              "</table>\n",
              "</div>"
            ],
            "text/plain": [
              "   Sr No.  ...       EndTime\n",
              "0       1  ...  00:16:21,731\n",
              "1       2  ...  00:16:23,442\n",
              "2       3  ...  00:16:26,389\n",
              "3       4  ...  00:16:29,572\n",
              "4       5  ...  00:16:40,917\n",
              "\n",
              "[5 rows x 11 columns]"
            ]
          },
          "metadata": {
            "tags": []
          },
          "execution_count": 101
        }
      ]
    },
    {
      "cell_type": "code",
      "metadata": {
        "colab": {
          "base_uri": "https://localhost:8080/",
          "height": 265
        },
        "id": "458FCXZKNCJ_",
        "outputId": "874c13e1-eb78-45c5-f614-729fd4854776"
      },
      "source": [
        "df.Emotion.hist()\n",
        "plt.show()"
      ],
      "execution_count": null,
      "outputs": [
        {
          "output_type": "display_data",
          "data": {
            "image/png": "[encoded data removed]",
            "text/plain": [
              "<Figure size 432x288 with 1 Axes>"
            ]
          },
          "metadata": {
            "tags": [],
            "needs_background": "light"
          }
        }
      ]
    },
    {
      "cell_type": "code",
      "metadata": {
        "colab": {
          "base_uri": "https://localhost:8080/"
        },
        "id": "ibfBY9nNNEvn",
        "outputId": "0491f2bd-a74d-4370-c473-013da26c1379"
      },
      "source": [
        "df.Emotion.value_counts()"
      ],
      "execution_count": null,
      "outputs": [
        {
          "output_type": "execute_result",
          "data": {
            "text/plain": [
              "neutral     4709\n",
              "joy         1743\n",
              "surprise    1205\n",
              "anger       1109\n",
              "sadness      683\n",
              "disgust      271\n",
              "fear         268\n",
              "Name: Emotion, dtype: int64"
            ]
          },
          "metadata": {
            "tags": []
          },
          "execution_count": 103
        }
      ]
    },
    {
      "cell_type": "code",
      "metadata": {
        "id": "nCeNxJwwNG-l"
      },
      "source": [
        "def LabelFunc(rating):\n",
        "    if rating == 'neutral':\n",
        "        return 0\n",
        "    elif rating == 'anger':\n",
        "        return 1\n",
        "    elif rating == 'disgust':\n",
        "        return 2\n",
        "    elif rating == 'fear':\n",
        "        return 3\n",
        "    elif rating == 'joy':\n",
        "        return 4\n",
        "    elif rating == 'sadness':\n",
        "        return 5\n",
        "    elif rating == 'surprise':\n",
        "        return 6  \n",
        "\n",
        "df['Label'] = df['Emotion'].apply(LabelFunc)    "
      ],
      "execution_count": null,
      "outputs": []
    },
    {
      "cell_type": "code",
      "metadata": {
        "id": "-05BOI_gNIvk"
      },
      "source": [
        "df = df[['Utterance','Emotion','Label']]"
      ],
      "execution_count": null,
      "outputs": []
    },
    {
      "cell_type": "code",
      "metadata": {
        "id": "52f0oltyVeAn"
      },
      "source": [
        "#df_0 = df[df.Label==0]\n",
        "#df_1 = df[df.Label==1]\n",
        "#df_2 = df[df.Label==2]\n",
        "#df_3 = df[df.Label==3]\n",
        "#df_4 = df[df.Label==4]\n",
        "#df_5 = df[df.Label==5]\n",
        "#df_6 = df[df.Label==6]"
      ],
      "execution_count": null,
      "outputs": []
    },
    {
      "cell_type": "code",
      "metadata": {
        "id": "KuJ5EApxVece"
      },
      "source": [
        "#df_0_sampled = df_0.sample(2000)"
      ],
      "execution_count": null,
      "outputs": []
    },
    {
      "cell_type": "code",
      "metadata": {
        "id": "sPLaR7fiVefH"
      },
      "source": [
        "# Sampled data\n",
        "#df_new = pd.concat([df_0_sampled, df_1, df_2, df_3, df_4, df_5, df_6], axis=0)"
      ],
      "execution_count": null,
      "outputs": []
    },
    {
      "cell_type": "code",
      "metadata": {
        "colab": {
          "base_uri": "https://localhost:8080/"
        },
        "id": "2KoClcL_VejA",
        "outputId": "283e1693-a324-42d9-e2d5-f8c56693901d"
      },
      "source": [
        "df_new = df.copy()\n",
        "df_new.shape"
      ],
      "execution_count": null,
      "outputs": [
        {
          "output_type": "execute_result",
          "data": {
            "text/plain": [
              "(9988, 3)"
            ]
          },
          "metadata": {
            "tags": []
          },
          "execution_count": 106
        }
      ]
    },
    {
      "cell_type": "code",
      "metadata": {
        "id": "Z11uIljDWesR"
      },
      "source": [
        "#df_new = df_new.sample(frac=1).reset_index(drop=True)"
      ],
      "execution_count": null,
      "outputs": []
    },
    {
      "cell_type": "code",
      "metadata": {
        "colab": {
          "base_uri": "https://localhost:8080/",
          "height": 204
        },
        "id": "b6c12e33NL-Q",
        "outputId": "d1eb221a-8650-44b6-89f4-b48ed154ae09"
      },
      "source": [
        "df_new.head()"
      ],
      "execution_count": null,
      "outputs": [
        {
          "output_type": "execute_result",
          "data": {
            "text/html": [
              "<div>\n",
              "<style scoped>\n",
              "    .dataframe tbody tr th:only-of-type {\n",
              "        vertical-align: middle;\n",
              "    }\n",
              "\n",
              "    .dataframe tbody tr th {\n",
              "        vertical-align: top;\n",
              "    }\n",
              "\n",
              "    .dataframe thead th {\n",
              "        text-align: right;\n",
              "    }\n",
              "</style>\n",
              "<table border=\"1\" class=\"dataframe\">\n",
              "  <thead>\n",
              "    <tr style=\"text-align: right;\">\n",
              "      <th></th>\n",
              "      <th>Utterance</th>\n",
              "      <th>Emotion</th>\n",
              "      <th>Label</th>\n",
              "    </tr>\n",
              "  </thead>\n",
              "  <tbody>\n",
              "    <tr>\n",
              "      <th>0</th>\n",
              "      <td>also I was the point person on my company’s tr...</td>\n",
              "      <td>neutral</td>\n",
              "      <td>0</td>\n",
              "    </tr>\n",
              "    <tr>\n",
              "      <th>1</th>\n",
              "      <td>You must’ve had your hands full.</td>\n",
              "      <td>neutral</td>\n",
              "      <td>0</td>\n",
              "    </tr>\n",
              "    <tr>\n",
              "      <th>2</th>\n",
              "      <td>That I did. That I did.</td>\n",
              "      <td>neutral</td>\n",
              "      <td>0</td>\n",
              "    </tr>\n",
              "    <tr>\n",
              "      <th>3</th>\n",
              "      <td>So let’s talk a little bit about your duties.</td>\n",
              "      <td>neutral</td>\n",
              "      <td>0</td>\n",
              "    </tr>\n",
              "    <tr>\n",
              "      <th>4</th>\n",
              "      <td>My duties?  All right.</td>\n",
              "      <td>surprise</td>\n",
              "      <td>6</td>\n",
              "    </tr>\n",
              "  </tbody>\n",
              "</table>\n",
              "</div>"
            ],
            "text/plain": [
              "                                           Utterance   Emotion  Label\n",
              "0  also I was the point person on my company’s tr...   neutral      0\n",
              "1                   You must’ve had your hands full.   neutral      0\n",
              "2                            That I did. That I did.   neutral      0\n",
              "3      So let’s talk a little bit about your duties.   neutral      0\n",
              "4                             My duties?  All right.  surprise      6"
            ]
          },
          "metadata": {
            "tags": []
          },
          "execution_count": 107
        }
      ]
    },
    {
      "cell_type": "code",
      "metadata": {
        "colab": {
          "base_uri": "https://localhost:8080/"
        },
        "id": "j6uWvoKrdKdE",
        "outputId": "abf38161-c040-4b29-ea4c-1376e49f9227"
      },
      "source": [
        "df_new.shape"
      ],
      "execution_count": null,
      "outputs": [
        {
          "output_type": "execute_result",
          "data": {
            "text/plain": [
              "(9988, 3)"
            ]
          },
          "metadata": {
            "tags": []
          },
          "execution_count": 108
        }
      ]
    },
    {
      "cell_type": "code",
      "metadata": {
        "id": "W32mLt0_NNEo"
      },
      "source": [
        "appos = {\n",
        "\"aren't\" : \"are not\",\n",
        "\"can't\" : \"cannot\",\n",
        "\"couldn't\" : \"could not\",\n",
        "\"didn't\" : \"did not\",\n",
        "\"doesn't\" : \"does not\",\n",
        "\"don't\" : \"do not\",\n",
        "\"hadn't\" : \"had not\",\n",
        "\"hasn't\" : \"has not\",\n",
        "\"haven't\" : \"have not\",\n",
        "\"he'd\" : \"he would\",\n",
        "\"he'll\" : \"he will\",\n",
        "\"he's\" : \"he is\",\n",
        "\"i'd\" : \"I would\",\n",
        "\"i'd\" : \"I had\",\n",
        "\"i'll\" : \"I will\",\n",
        "\"i'm\" : \"I am\",\n",
        "\"isn't\" : \"is not\",\n",
        "\"it's\" : \"it is\",\n",
        "\"it'll\":\"it will\",\n",
        "\"i've\" : \"I have\",\n",
        "\"let's\" : \"let us\",\n",
        "\"mightn't\" : \"might not\",\n",
        "\"mustn't\" : \"must not\",\n",
        "\"shan't\" : \"shall not\",\n",
        "\"she'd\" : \"she would\",\n",
        "\"she'll\" : \"she will\",\n",
        "\"she's\" : \"she is\",\n",
        "\"shouldn't\" : \"should not\",\n",
        "\"that's\" : \"that is\",\n",
        "\"there's\" : \"there is\",\n",
        "\"they'd\" : \"they would\",\n",
        "\"they'll\" : \"they will\",\n",
        "\"they're\" : \"they are\",\n",
        "\"they've\" : \"they have\",\n",
        "\"we'd\" : \"we would\",\n",
        "\"we're\" : \"we are\",\n",
        "\"weren't\" : \"were not\",\n",
        "\"we've\" : \"we have\",\n",
        "\"what'll\" : \"what will\",\n",
        "\"what're\" : \"what are\",\n",
        "\"what's\" : \"what is\",\n",
        "\"what've\" : \"what have\",\n",
        "\"where's\" : \"where is\",\n",
        "\"who'd\" : \"who would\",\n",
        "\"who'll\" : \"who will\",\n",
        "\"who're\" : \"who are\",\n",
        "\"who's\" : \"who is\",\n",
        "\"who've\" : \"who have\",\n",
        "\"won't\" : \"will not\",\n",
        "\"wouldn't\" : \"would not\",\n",
        "\"you'd\" : \"you would\",\n",
        "\"you'll\" : \"you will\",\n",
        "\"you're\" : \"you are\",\n",
        "\"you've\" : \"you have\",\n",
        "\"'re\": \" are\",\n",
        "\"wasn't\": \"was not\",\n",
        "\"we'll\":\" will\",\n",
        "\"didn't\": \"did not\",\n",
        "\"must've\": \"must have\",\n",
        "\"should've\": \"should have\"\n",
        "}"
      ],
      "execution_count": null,
      "outputs": []
    },
    {
      "cell_type": "code",
      "metadata": {
        "id": "aat2u7UZNWkY"
      },
      "source": [
        "def clean_text(words):\n",
        "    words = re.sub(r'http\\S+', '', str(words))\n",
        "    words = words.lower()\n",
        "    words = word_tokenize(words)\n",
        "    words = [word for word in words if word.isalpha()]\n",
        "    reformed = [appos[word] if word in appos else word for word in words]\n",
        "    reformed = [lemmatizer.lemmatize(word) for word in reformed if word not in set(stop_words)]\n",
        "    reformed = [word for word in reformed if len(word) > 2]\n",
        "    reformed = ' '.join(reformed)\n",
        "    return reformed\n",
        "\n",
        "df_new['CleanText'] = df_new['Utterance'].apply(clean_text)"
      ],
      "execution_count": null,
      "outputs": []
    },
    {
      "cell_type": "code",
      "metadata": {
        "id": "t2GFWV8WPw6f",
        "colab": {
          "base_uri": "https://localhost:8080/",
          "height": 204
        },
        "outputId": "25e9ea7b-db25-4541-8f1b-cceafbb8e781"
      },
      "source": [
        "df_new.head()"
      ],
      "execution_count": null,
      "outputs": [
        {
          "output_type": "execute_result",
          "data": {
            "text/html": [
              "<div>\n",
              "<style scoped>\n",
              "    .dataframe tbody tr th:only-of-type {\n",
              "        vertical-align: middle;\n",
              "    }\n",
              "\n",
              "    .dataframe tbody tr th {\n",
              "        vertical-align: top;\n",
              "    }\n",
              "\n",
              "    .dataframe thead th {\n",
              "        text-align: right;\n",
              "    }\n",
              "</style>\n",
              "<table border=\"1\" class=\"dataframe\">\n",
              "  <thead>\n",
              "    <tr style=\"text-align: right;\">\n",
              "      <th></th>\n",
              "      <th>Utterance</th>\n",
              "      <th>Emotion</th>\n",
              "      <th>Label</th>\n",
              "      <th>CleanText</th>\n",
              "    </tr>\n",
              "  </thead>\n",
              "  <tbody>\n",
              "    <tr>\n",
              "      <th>0</th>\n",
              "      <td>also I was the point person on my company’s tr...</td>\n",
              "      <td>neutral</td>\n",
              "      <td>0</td>\n",
              "      <td>also point person company transition system</td>\n",
              "    </tr>\n",
              "    <tr>\n",
              "      <th>1</th>\n",
              "      <td>You must’ve had your hands full.</td>\n",
              "      <td>neutral</td>\n",
              "      <td>0</td>\n",
              "      <td>must hand full</td>\n",
              "    </tr>\n",
              "    <tr>\n",
              "      <th>2</th>\n",
              "      <td>That I did. That I did.</td>\n",
              "      <td>neutral</td>\n",
              "      <td>0</td>\n",
              "      <td></td>\n",
              "    </tr>\n",
              "    <tr>\n",
              "      <th>3</th>\n",
              "      <td>So let’s talk a little bit about your duties.</td>\n",
              "      <td>neutral</td>\n",
              "      <td>0</td>\n",
              "      <td>let talk little bit duty</td>\n",
              "    </tr>\n",
              "    <tr>\n",
              "      <th>4</th>\n",
              "      <td>My duties?  All right.</td>\n",
              "      <td>surprise</td>\n",
              "      <td>6</td>\n",
              "      <td>duty right</td>\n",
              "    </tr>\n",
              "  </tbody>\n",
              "</table>\n",
              "</div>"
            ],
            "text/plain": [
              "                                           Utterance  ...                                    CleanText\n",
              "0  also I was the point person on my company’s tr...  ...  also point person company transition system\n",
              "1                   You must’ve had your hands full.  ...                               must hand full\n",
              "2                            That I did. That I did.  ...                                             \n",
              "3      So let’s talk a little bit about your duties.  ...                     let talk little bit duty\n",
              "4                             My duties?  All right.  ...                                   duty right\n",
              "\n",
              "[5 rows x 4 columns]"
            ]
          },
          "metadata": {
            "tags": []
          },
          "execution_count": 111
        }
      ]
    },
    {
      "cell_type": "code",
      "metadata": {
        "colab": {
          "base_uri": "https://localhost:8080/",
          "height": 462
        },
        "id": "AF6R_VH6DyNE",
        "outputId": "02c226aa-71d4-4277-f3b7-41b681782914"
      },
      "source": [
        "dev.head()"
      ],
      "execution_count": null,
      "outputs": [
        {
          "output_type": "execute_result",
          "data": {
            "text/html": [
              "<div>\n",
              "<style scoped>\n",
              "    .dataframe tbody tr th:only-of-type {\n",
              "        vertical-align: middle;\n",
              "    }\n",
              "\n",
              "    .dataframe tbody tr th {\n",
              "        vertical-align: top;\n",
              "    }\n",
              "\n",
              "    .dataframe thead th {\n",
              "        text-align: right;\n",
              "    }\n",
              "</style>\n",
              "<table border=\"1\" class=\"dataframe\">\n",
              "  <thead>\n",
              "    <tr style=\"text-align: right;\">\n",
              "      <th></th>\n",
              "      <th>Sr No.</th>\n",
              "      <th>Utterance</th>\n",
              "      <th>Speaker</th>\n",
              "      <th>Emotion</th>\n",
              "      <th>Sentiment</th>\n",
              "      <th>Dialogue_ID</th>\n",
              "      <th>Utterance_ID</th>\n",
              "      <th>Season</th>\n",
              "      <th>Episode</th>\n",
              "      <th>StartTime</th>\n",
              "      <th>EndTime</th>\n",
              "    </tr>\n",
              "  </thead>\n",
              "  <tbody>\n",
              "    <tr>\n",
              "      <th>0</th>\n",
              "      <td>1</td>\n",
              "      <td>Oh my God, he’s lost it. He’s totally lost it.</td>\n",
              "      <td>Phoebe</td>\n",
              "      <td>sadness</td>\n",
              "      <td>negative</td>\n",
              "      <td>0</td>\n",
              "      <td>0</td>\n",
              "      <td>4</td>\n",
              "      <td>7</td>\n",
              "      <td>00:20:57,256</td>\n",
              "      <td>00:21:00,049</td>\n",
              "    </tr>\n",
              "    <tr>\n",
              "      <th>1</th>\n",
              "      <td>2</td>\n",
              "      <td>What?</td>\n",
              "      <td>Monica</td>\n",
              "      <td>surprise</td>\n",
              "      <td>negative</td>\n",
              "      <td>0</td>\n",
              "      <td>1</td>\n",
              "      <td>4</td>\n",
              "      <td>7</td>\n",
              "      <td>00:21:01,927</td>\n",
              "      <td>00:21:03,261</td>\n",
              "    </tr>\n",
              "    <tr>\n",
              "      <th>2</th>\n",
              "      <td>3</td>\n",
              "      <td>Or! Or, we could go to the bank, close our acc...</td>\n",
              "      <td>Ross</td>\n",
              "      <td>neutral</td>\n",
              "      <td>neutral</td>\n",
              "      <td>1</td>\n",
              "      <td>0</td>\n",
              "      <td>4</td>\n",
              "      <td>4</td>\n",
              "      <td>00:12:24,660</td>\n",
              "      <td>00:12:30,915</td>\n",
              "    </tr>\n",
              "    <tr>\n",
              "      <th>3</th>\n",
              "      <td>4</td>\n",
              "      <td>You’re a genius!</td>\n",
              "      <td>Chandler</td>\n",
              "      <td>joy</td>\n",
              "      <td>positive</td>\n",
              "      <td>1</td>\n",
              "      <td>1</td>\n",
              "      <td>4</td>\n",
              "      <td>4</td>\n",
              "      <td>00:12:32,334</td>\n",
              "      <td>00:12:33,960</td>\n",
              "    </tr>\n",
              "    <tr>\n",
              "      <th>4</th>\n",
              "      <td>5</td>\n",
              "      <td>Aww, man, now we won’t be bank buddies!</td>\n",
              "      <td>Joey</td>\n",
              "      <td>sadness</td>\n",
              "      <td>negative</td>\n",
              "      <td>1</td>\n",
              "      <td>2</td>\n",
              "      <td>4</td>\n",
              "      <td>4</td>\n",
              "      <td>00:12:34,211</td>\n",
              "      <td>00:12:37,505</td>\n",
              "    </tr>\n",
              "  </tbody>\n",
              "</table>\n",
              "</div>"
            ],
            "text/plain": [
              "   Sr No.  ...       EndTime\n",
              "0       1  ...  00:21:00,049\n",
              "1       2  ...  00:21:03,261\n",
              "2       3  ...  00:12:30,915\n",
              "3       4  ...  00:12:33,960\n",
              "4       5  ...  00:12:37,505\n",
              "\n",
              "[5 rows x 11 columns]"
            ]
          },
          "metadata": {
            "tags": []
          },
          "execution_count": 20
        }
      ]
    },
    {
      "cell_type": "code",
      "metadata": {
        "colab": {
          "base_uri": "https://localhost:8080/"
        },
        "id": "k4Ify5ULD5p2",
        "outputId": "bb316b79-7db9-41b2-e6fb-b293f3b46ed1"
      },
      "source": [
        "dev.shape"
      ],
      "execution_count": null,
      "outputs": [
        {
          "output_type": "execute_result",
          "data": {
            "text/plain": [
              "(1109, 11)"
            ]
          },
          "metadata": {
            "tags": []
          },
          "execution_count": 21
        }
      ]
    },
    {
      "cell_type": "code",
      "metadata": {
        "id": "FggAvjdFEIBH"
      },
      "source": [
        "dev['Label'] = dev['Emotion'].apply(LabelFunc)"
      ],
      "execution_count": null,
      "outputs": []
    },
    {
      "cell_type": "code",
      "metadata": {
        "colab": {
          "base_uri": "https://localhost:8080/",
          "height": 204
        },
        "id": "6PBxBXblD5iB",
        "outputId": "06d4efec-b569-4b6e-c1c9-d4e1abc3b923"
      },
      "source": [
        "dev = dev[['Utterance','Emotion','Label']]\n",
        "dev.head()"
      ],
      "execution_count": null,
      "outputs": [
        {
          "output_type": "execute_result",
          "data": {
            "text/html": [
              "<div>\n",
              "<style scoped>\n",
              "    .dataframe tbody tr th:only-of-type {\n",
              "        vertical-align: middle;\n",
              "    }\n",
              "\n",
              "    .dataframe tbody tr th {\n",
              "        vertical-align: top;\n",
              "    }\n",
              "\n",
              "    .dataframe thead th {\n",
              "        text-align: right;\n",
              "    }\n",
              "</style>\n",
              "<table border=\"1\" class=\"dataframe\">\n",
              "  <thead>\n",
              "    <tr style=\"text-align: right;\">\n",
              "      <th></th>\n",
              "      <th>Utterance</th>\n",
              "      <th>Emotion</th>\n",
              "      <th>Label</th>\n",
              "    </tr>\n",
              "  </thead>\n",
              "  <tbody>\n",
              "    <tr>\n",
              "      <th>0</th>\n",
              "      <td>Oh my God, he’s lost it. He’s totally lost it.</td>\n",
              "      <td>sadness</td>\n",
              "      <td>5</td>\n",
              "    </tr>\n",
              "    <tr>\n",
              "      <th>1</th>\n",
              "      <td>What?</td>\n",
              "      <td>surprise</td>\n",
              "      <td>6</td>\n",
              "    </tr>\n",
              "    <tr>\n",
              "      <th>2</th>\n",
              "      <td>Or! Or, we could go to the bank, close our acc...</td>\n",
              "      <td>neutral</td>\n",
              "      <td>0</td>\n",
              "    </tr>\n",
              "    <tr>\n",
              "      <th>3</th>\n",
              "      <td>You’re a genius!</td>\n",
              "      <td>joy</td>\n",
              "      <td>4</td>\n",
              "    </tr>\n",
              "    <tr>\n",
              "      <th>4</th>\n",
              "      <td>Aww, man, now we won’t be bank buddies!</td>\n",
              "      <td>sadness</td>\n",
              "      <td>5</td>\n",
              "    </tr>\n",
              "  </tbody>\n",
              "</table>\n",
              "</div>"
            ],
            "text/plain": [
              "                                           Utterance   Emotion  Label\n",
              "0     Oh my God, he’s lost it. He’s totally lost it.   sadness      5\n",
              "1                                              What?  surprise      6\n",
              "2  Or! Or, we could go to the bank, close our acc...   neutral      0\n",
              "3                                   You’re a genius!       joy      4\n",
              "4            Aww, man, now we won’t be bank buddies!   sadness      5"
            ]
          },
          "metadata": {
            "tags": []
          },
          "execution_count": 23
        }
      ]
    },
    {
      "cell_type": "code",
      "metadata": {
        "id": "XY5TNXXLD5Wg"
      },
      "source": [
        "def clean_text(words):\n",
        "    words = re.sub(r'http\\S+', '', str(words))\n",
        "    words = words.lower()\n",
        "    words = word_tokenize(words)\n",
        "    words = [word for word in words if word.isalpha()]\n",
        "    reformed = [appos[word] if word in appos else word for word in words]\n",
        "    reformed = [lemmatizer.lemmatize(word) for word in reformed if word not in set(stop_words)]\n",
        "    reformed = [word for word in reformed if len(word) > 2]\n",
        "    reformed = ' '.join(reformed)\n",
        "    return reformed\n",
        "\n",
        "dev['CleanText'] = dev['Utterance'].apply(clean_text)"
      ],
      "execution_count": null,
      "outputs": []
    },
    {
      "cell_type": "code",
      "metadata": {
        "colab": {
          "base_uri": "https://localhost:8080/",
          "height": 204
        },
        "id": "yCN-CkLIEqGn",
        "outputId": "7938713e-cacd-413f-bf4e-279a6fcca810"
      },
      "source": [
        "dev.head()"
      ],
      "execution_count": null,
      "outputs": [
        {
          "output_type": "execute_result",
          "data": {
            "text/html": [
              "<div>\n",
              "<style scoped>\n",
              "    .dataframe tbody tr th:only-of-type {\n",
              "        vertical-align: middle;\n",
              "    }\n",
              "\n",
              "    .dataframe tbody tr th {\n",
              "        vertical-align: top;\n",
              "    }\n",
              "\n",
              "    .dataframe thead th {\n",
              "        text-align: right;\n",
              "    }\n",
              "</style>\n",
              "<table border=\"1\" class=\"dataframe\">\n",
              "  <thead>\n",
              "    <tr style=\"text-align: right;\">\n",
              "      <th></th>\n",
              "      <th>Utterance</th>\n",
              "      <th>Emotion</th>\n",
              "      <th>Label</th>\n",
              "      <th>CleanText</th>\n",
              "    </tr>\n",
              "  </thead>\n",
              "  <tbody>\n",
              "    <tr>\n",
              "      <th>0</th>\n",
              "      <td>Oh my God, he’s lost it. He’s totally lost it.</td>\n",
              "      <td>sadness</td>\n",
              "      <td>5</td>\n",
              "      <td>god lost totally lost</td>\n",
              "    </tr>\n",
              "    <tr>\n",
              "      <th>1</th>\n",
              "      <td>What?</td>\n",
              "      <td>surprise</td>\n",
              "      <td>6</td>\n",
              "      <td></td>\n",
              "    </tr>\n",
              "    <tr>\n",
              "      <th>2</th>\n",
              "      <td>Or! Or, we could go to the bank, close our acc...</td>\n",
              "      <td>neutral</td>\n",
              "      <td>0</td>\n",
              "      <td>could bank close account cut source</td>\n",
              "    </tr>\n",
              "    <tr>\n",
              "      <th>3</th>\n",
              "      <td>You’re a genius!</td>\n",
              "      <td>joy</td>\n",
              "      <td>4</td>\n",
              "      <td>genius</td>\n",
              "    </tr>\n",
              "    <tr>\n",
              "      <th>4</th>\n",
              "      <td>Aww, man, now we won’t be bank buddies!</td>\n",
              "      <td>sadness</td>\n",
              "      <td>5</td>\n",
              "      <td>aww man bank buddy</td>\n",
              "    </tr>\n",
              "  </tbody>\n",
              "</table>\n",
              "</div>"
            ],
            "text/plain": [
              "                                           Utterance  ...                            CleanText\n",
              "0     Oh my God, he’s lost it. He’s totally lost it.  ...                god lost totally lost\n",
              "1                                              What?  ...                                     \n",
              "2  Or! Or, we could go to the bank, close our acc...  ...  could bank close account cut source\n",
              "3                                   You’re a genius!  ...                               genius\n",
              "4            Aww, man, now we won’t be bank buddies!  ...                   aww man bank buddy\n",
              "\n",
              "[5 rows x 4 columns]"
            ]
          },
          "metadata": {
            "tags": []
          },
          "execution_count": 25
        }
      ]
    },
    {
      "cell_type": "code",
      "metadata": {
        "colab": {
          "base_uri": "https://localhost:8080/",
          "height": 445
        },
        "id": "D_B5AMnEEqew",
        "outputId": "51d844cb-1de8-4c04-80f8-7551719555f9"
      },
      "source": [
        "test.head()"
      ],
      "execution_count": null,
      "outputs": [
        {
          "output_type": "execute_result",
          "data": {
            "text/html": [
              "<div>\n",
              "<style scoped>\n",
              "    .dataframe tbody tr th:only-of-type {\n",
              "        vertical-align: middle;\n",
              "    }\n",
              "\n",
              "    .dataframe tbody tr th {\n",
              "        vertical-align: top;\n",
              "    }\n",
              "\n",
              "    .dataframe thead th {\n",
              "        text-align: right;\n",
              "    }\n",
              "</style>\n",
              "<table border=\"1\" class=\"dataframe\">\n",
              "  <thead>\n",
              "    <tr style=\"text-align: right;\">\n",
              "      <th></th>\n",
              "      <th>Sr No.</th>\n",
              "      <th>Utterance</th>\n",
              "      <th>Speaker</th>\n",
              "      <th>Emotion</th>\n",
              "      <th>Sentiment</th>\n",
              "      <th>Dialogue_ID</th>\n",
              "      <th>Utterance_ID</th>\n",
              "      <th>Season</th>\n",
              "      <th>Episode</th>\n",
              "      <th>StartTime</th>\n",
              "      <th>EndTime</th>\n",
              "    </tr>\n",
              "  </thead>\n",
              "  <tbody>\n",
              "    <tr>\n",
              "      <th>0</th>\n",
              "      <td>1</td>\n",
              "      <td>Why do all you’re coffee mugs have numbers on ...</td>\n",
              "      <td>Mark</td>\n",
              "      <td>surprise</td>\n",
              "      <td>positive</td>\n",
              "      <td>0</td>\n",
              "      <td>0</td>\n",
              "      <td>3</td>\n",
              "      <td>19</td>\n",
              "      <td>00:14:38,127</td>\n",
              "      <td>00:14:40,378</td>\n",
              "    </tr>\n",
              "    <tr>\n",
              "      <th>1</th>\n",
              "      <td>2</td>\n",
              "      <td>Oh. That’s so Monica can keep track. That way ...</td>\n",
              "      <td>Rachel</td>\n",
              "      <td>anger</td>\n",
              "      <td>negative</td>\n",
              "      <td>0</td>\n",
              "      <td>1</td>\n",
              "      <td>3</td>\n",
              "      <td>19</td>\n",
              "      <td>00:14:40,629</td>\n",
              "      <td>00:14:47,385</td>\n",
              "    </tr>\n",
              "    <tr>\n",
              "      <th>2</th>\n",
              "      <td>3</td>\n",
              "      <td>Y'know what?</td>\n",
              "      <td>Rachel</td>\n",
              "      <td>neutral</td>\n",
              "      <td>neutral</td>\n",
              "      <td>0</td>\n",
              "      <td>2</td>\n",
              "      <td>3</td>\n",
              "      <td>19</td>\n",
              "      <td>00:14:56,353</td>\n",
              "      <td>00:14:57,520</td>\n",
              "    </tr>\n",
              "    <tr>\n",
              "      <th>3</th>\n",
              "      <td>19</td>\n",
              "      <td>Come on, Lydia, you can do it.</td>\n",
              "      <td>Joey</td>\n",
              "      <td>neutral</td>\n",
              "      <td>neutral</td>\n",
              "      <td>1</td>\n",
              "      <td>0</td>\n",
              "      <td>1</td>\n",
              "      <td>23</td>\n",
              "      <td>0:10:44,769</td>\n",
              "      <td>0:10:46,146</td>\n",
              "    </tr>\n",
              "    <tr>\n",
              "      <th>4</th>\n",
              "      <td>20</td>\n",
              "      <td>Push!</td>\n",
              "      <td>Joey</td>\n",
              "      <td>joy</td>\n",
              "      <td>positive</td>\n",
              "      <td>1</td>\n",
              "      <td>1</td>\n",
              "      <td>1</td>\n",
              "      <td>23</td>\n",
              "      <td>0:10:46,146</td>\n",
              "      <td>0:10:46,833</td>\n",
              "    </tr>\n",
              "  </tbody>\n",
              "</table>\n",
              "</div>"
            ],
            "text/plain": [
              "   Sr No.  ...       EndTime\n",
              "0       1  ...  00:14:40,378\n",
              "1       2  ...  00:14:47,385\n",
              "2       3  ...  00:14:57,520\n",
              "3      19  ...   0:10:46,146\n",
              "4      20  ...   0:10:46,833\n",
              "\n",
              "[5 rows x 11 columns]"
            ]
          },
          "metadata": {
            "tags": []
          },
          "execution_count": 26
        }
      ]
    },
    {
      "cell_type": "code",
      "metadata": {
        "id": "IHx_ftR6Eqk_"
      },
      "source": [
        "test['Label'] = test['Emotion'].apply(LabelFunc)"
      ],
      "execution_count": null,
      "outputs": []
    },
    {
      "cell_type": "code",
      "metadata": {
        "colab": {
          "base_uri": "https://localhost:8080/",
          "height": 204
        },
        "id": "7IjhVGL2EqoN",
        "outputId": "aa2cd641-d51f-4afd-d80a-3041716c840c"
      },
      "source": [
        "test = test[['Utterance','Emotion','Label']]\n",
        "test.head()"
      ],
      "execution_count": null,
      "outputs": [
        {
          "output_type": "execute_result",
          "data": {
            "text/html": [
              "<div>\n",
              "<style scoped>\n",
              "    .dataframe tbody tr th:only-of-type {\n",
              "        vertical-align: middle;\n",
              "    }\n",
              "\n",
              "    .dataframe tbody tr th {\n",
              "        vertical-align: top;\n",
              "    }\n",
              "\n",
              "    .dataframe thead th {\n",
              "        text-align: right;\n",
              "    }\n",
              "</style>\n",
              "<table border=\"1\" class=\"dataframe\">\n",
              "  <thead>\n",
              "    <tr style=\"text-align: right;\">\n",
              "      <th></th>\n",
              "      <th>Utterance</th>\n",
              "      <th>Emotion</th>\n",
              "      <th>Label</th>\n",
              "    </tr>\n",
              "  </thead>\n",
              "  <tbody>\n",
              "    <tr>\n",
              "      <th>0</th>\n",
              "      <td>Why do all you’re coffee mugs have numbers on ...</td>\n",
              "      <td>surprise</td>\n",
              "      <td>6</td>\n",
              "    </tr>\n",
              "    <tr>\n",
              "      <th>1</th>\n",
              "      <td>Oh. That’s so Monica can keep track. That way ...</td>\n",
              "      <td>anger</td>\n",
              "      <td>1</td>\n",
              "    </tr>\n",
              "    <tr>\n",
              "      <th>2</th>\n",
              "      <td>Y'know what?</td>\n",
              "      <td>neutral</td>\n",
              "      <td>0</td>\n",
              "    </tr>\n",
              "    <tr>\n",
              "      <th>3</th>\n",
              "      <td>Come on, Lydia, you can do it.</td>\n",
              "      <td>neutral</td>\n",
              "      <td>0</td>\n",
              "    </tr>\n",
              "    <tr>\n",
              "      <th>4</th>\n",
              "      <td>Push!</td>\n",
              "      <td>joy</td>\n",
              "      <td>4</td>\n",
              "    </tr>\n",
              "  </tbody>\n",
              "</table>\n",
              "</div>"
            ],
            "text/plain": [
              "                                           Utterance   Emotion  Label\n",
              "0  Why do all you’re coffee mugs have numbers on ...  surprise      6\n",
              "1  Oh. That’s so Monica can keep track. That way ...     anger      1\n",
              "2                                       Y'know what?   neutral      0\n",
              "3                     Come on, Lydia, you can do it.   neutral      0\n",
              "4                                              Push!       joy      4"
            ]
          },
          "metadata": {
            "tags": []
          },
          "execution_count": 28
        }
      ]
    },
    {
      "cell_type": "code",
      "metadata": {
        "id": "6qpMAKFhEqrN"
      },
      "source": [
        "def clean_text(words):\n",
        "    words = re.sub(r'http\\S+', '', str(words))\n",
        "    words = words.lower()\n",
        "    words = word_tokenize(words)\n",
        "    words = [word for word in words if word.isalpha()]\n",
        "    reformed = [appos[word] if word in appos else word for word in words]\n",
        "    reformed = [lemmatizer.lemmatize(word) for word in reformed if word not in set(stop_words)]\n",
        "    reformed = [word for word in reformed if len(word) > 2]\n",
        "    reformed = ' '.join(reformed)\n",
        "    return reformed\n",
        "\n",
        "test['CleanText'] = test['Utterance'].apply(clean_text)"
      ],
      "execution_count": null,
      "outputs": []
    },
    {
      "cell_type": "code",
      "metadata": {
        "colab": {
          "base_uri": "https://localhost:8080/",
          "height": 204
        },
        "id": "eiXmZiTNFY1a",
        "outputId": "e798ab2a-6d0e-465c-fc9f-accb828b52b9"
      },
      "source": [
        "test.head()"
      ],
      "execution_count": null,
      "outputs": [
        {
          "output_type": "execute_result",
          "data": {
            "text/html": [
              "<div>\n",
              "<style scoped>\n",
              "    .dataframe tbody tr th:only-of-type {\n",
              "        vertical-align: middle;\n",
              "    }\n",
              "\n",
              "    .dataframe tbody tr th {\n",
              "        vertical-align: top;\n",
              "    }\n",
              "\n",
              "    .dataframe thead th {\n",
              "        text-align: right;\n",
              "    }\n",
              "</style>\n",
              "<table border=\"1\" class=\"dataframe\">\n",
              "  <thead>\n",
              "    <tr style=\"text-align: right;\">\n",
              "      <th></th>\n",
              "      <th>Utterance</th>\n",
              "      <th>Emotion</th>\n",
              "      <th>Label</th>\n",
              "      <th>CleanText</th>\n",
              "    </tr>\n",
              "  </thead>\n",
              "  <tbody>\n",
              "    <tr>\n",
              "      <th>0</th>\n",
              "      <td>Why do all you’re coffee mugs have numbers on ...</td>\n",
              "      <td>surprise</td>\n",
              "      <td>6</td>\n",
              "      <td>coffee mug number bottom</td>\n",
              "    </tr>\n",
              "    <tr>\n",
              "      <th>1</th>\n",
              "      <td>Oh. That’s so Monica can keep track. That way ...</td>\n",
              "      <td>anger</td>\n",
              "      <td>1</td>\n",
              "      <td>monica keep track way one missing like number</td>\n",
              "    </tr>\n",
              "    <tr>\n",
              "      <th>2</th>\n",
              "      <td>Y'know what?</td>\n",
              "      <td>neutral</td>\n",
              "      <td>0</td>\n",
              "      <td></td>\n",
              "    </tr>\n",
              "    <tr>\n",
              "      <th>3</th>\n",
              "      <td>Come on, Lydia, you can do it.</td>\n",
              "      <td>neutral</td>\n",
              "      <td>0</td>\n",
              "      <td>come lydia</td>\n",
              "    </tr>\n",
              "    <tr>\n",
              "      <th>4</th>\n",
              "      <td>Push!</td>\n",
              "      <td>joy</td>\n",
              "      <td>4</td>\n",
              "      <td>push</td>\n",
              "    </tr>\n",
              "  </tbody>\n",
              "</table>\n",
              "</div>"
            ],
            "text/plain": [
              "                                           Utterance  ...                                      CleanText\n",
              "0  Why do all you’re coffee mugs have numbers on ...  ...                       coffee mug number bottom\n",
              "1  Oh. That’s so Monica can keep track. That way ...  ...  monica keep track way one missing like number\n",
              "2                                       Y'know what?  ...                                               \n",
              "3                     Come on, Lydia, you can do it.  ...                                     come lydia\n",
              "4                                              Push!  ...                                           push\n",
              "\n",
              "[5 rows x 4 columns]"
            ]
          },
          "metadata": {
            "tags": []
          },
          "execution_count": 30
        }
      ]
    },
    {
      "cell_type": "markdown",
      "metadata": {
        "id": "6OlkMBD1B1l2"
      },
      "source": [
        "# Defining Multi Class Log Loss"
      ]
    },
    {
      "cell_type": "code",
      "metadata": {
        "id": "ewYQMNWIB0Fg"
      },
      "source": [
        "def multiclass_logloss(actual, predicted, eps=1e-15):\n",
        "    \"\"\"Multi class version of Logarithmic Loss metric.\n",
        "    :param actual: Array containing the actual target classes\n",
        "    :param predicted: Matrix with class predictions, one probability per class\n",
        "    \"\"\"\n",
        "    # Convert 'actual' to a binary array if it's not already:\n",
        "    if len(actual.shape) == 1:\n",
        "        actual2 = np.zeros((actual.shape[0], predicted.shape[1]))\n",
        "        for i, val in enumerate(actual):\n",
        "            actual2[i, val] = 1\n",
        "        actual = actual2\n",
        "\n",
        "    clip = np.clip(predicted, eps, 1 - eps)\n",
        "    rows = actual.shape[0]\n",
        "    vsota = np.sum(actual * np.log(clip))\n",
        "    return -1.0 / rows * vsota"
      ],
      "execution_count": null,
      "outputs": []
    },
    {
      "cell_type": "markdown",
      "metadata": {
        "id": "1KBYamt5CEKx"
      },
      "source": [
        "### Define a scorer to be used in Grid Search"
      ]
    },
    {
      "cell_type": "code",
      "metadata": {
        "id": "rvVGrj3aB-UB"
      },
      "source": [
        "mll_scorer = metrics.make_scorer(multiclass_logloss, greater_is_better=False, needs_proba=True)"
      ],
      "execution_count": null,
      "outputs": []
    },
    {
      "cell_type": "code",
      "metadata": {
        "id": "2OooutbqB-gT"
      },
      "source": [
        "X_train = df_new[['CleanText']]\n",
        "X_dev = dev[['CleanText']]\n",
        "X_test = test[['CleanText']]\n",
        "Y_train = df_new[['Label']]\n",
        "Y_dev = dev[['Label']]\n",
        "Y_test = test[['Label']]"
      ],
      "execution_count": null,
      "outputs": []
    },
    {
      "cell_type": "markdown",
      "metadata": {
        "id": "ag5Yv7SeFrSg"
      },
      "source": [
        "# Model 2: TFIDF"
      ]
    },
    {
      "cell_type": "code",
      "metadata": {
        "id": "0qxfXAQ_PxdD"
      },
      "source": [
        "tfv = TfidfVectorizer(min_df=3,  max_features=None, \n",
        "            strip_accents='unicode', analyzer='word',token_pattern=r'\\w{1,}',\n",
        "            ngram_range=(1, 3), use_idf=1,smooth_idf=1,sublinear_tf=1)\n",
        "\n",
        "# Fitting TF-IDF to both training and test sets (semi-supervised learning)\n",
        "tfv.fit(list(df_new['CleanText']) + list(dev['CleanText']) + list(test['CleanText']))\n",
        "X_train_tfv =  tfv.transform(df_new['CleanText']) \n",
        "X_valid_tfv = tfv.transform(dev['CleanText'])\n",
        "X_test_tfv = tfv.transform(test['CleanText'])"
      ],
      "execution_count": null,
      "outputs": []
    },
    {
      "cell_type": "code",
      "metadata": {
        "id": "9i-U02rWPxfE",
        "colab": {
          "base_uri": "https://localhost:8080/"
        },
        "outputId": "562b305f-8442-42a0-fd73-ef41a182b584"
      },
      "source": [
        "X_train_tfv.shape,X_valid_tfv.shape,X_test_tfv.shape"
      ],
      "execution_count": null,
      "outputs": [
        {
          "output_type": "execute_result",
          "data": {
            "text/plain": [
              "((9988, 3336), (1109, 3336), (2610, 3336))"
            ]
          },
          "metadata": {
            "tags": []
          },
          "execution_count": 114
        }
      ]
    },
    {
      "cell_type": "code",
      "metadata": {
        "id": "Rag8j4yLQGBE"
      },
      "source": [
        "#Y_train.values[:200]"
      ],
      "execution_count": null,
      "outputs": []
    },
    {
      "cell_type": "markdown",
      "metadata": {
        "id": "VaToNcoiNuqu"
      },
      "source": [
        "## SVM model"
      ]
    },
    {
      "cell_type": "code",
      "metadata": {
        "id": "ouWoyPQePxih"
      },
      "source": [
        "# hyperparameter tuning parameters\n",
        "params_grid = [{'kernel':['rbf'], 'gamma': [1e-3, 1e-4], 'C': [1e-1, 1, 10, 100, 1000]},\n",
        "               {'kernel': ['linear'], 'C': [1e-1, 1, 10, 100, 1000]}]"
      ],
      "execution_count": null,
      "outputs": []
    },
    {
      "cell_type": "code",
      "metadata": {
        "colab": {
          "base_uri": "https://localhost:8080/"
        },
        "id": "cjJWb6wkPidM",
        "outputId": "124a067b-42d9-4aff-ec1a-1a9af03f432a"
      },
      "source": [
        "# Performing CV to tune parameters for best SVM fit \n",
        "svm_model = GridSearchCV(SVC(), params_grid,\n",
        "                       n_jobs = -1,\n",
        "                       verbose = 10, refit=True,cv=5)\n",
        "svm_model.fit(X_train_tfv, Y_train)"
      ],
      "execution_count": null,
      "outputs": [
        {
          "output_type": "stream",
          "text": [
            "Fitting 5 folds for each of 15 candidates, totalling 75 fits\n"
          ],
          "name": "stdout"
        },
        {
          "output_type": "stream",
          "text": [
            "[Parallel(n_jobs=-1)]: Using backend LokyBackend with 2 concurrent workers.\n",
            "[Parallel(n_jobs=-1)]: Done   1 tasks      | elapsed:    7.0s\n",
            "[Parallel(n_jobs=-1)]: Done   4 tasks      | elapsed:   13.2s\n",
            "[Parallel(n_jobs=-1)]: Done   9 tasks      | elapsed:   31.7s\n",
            "[Parallel(n_jobs=-1)]: Done  14 tasks      | elapsed:   45.9s\n",
            "[Parallel(n_jobs=-1)]: Done  21 tasks      | elapsed:  1.2min\n",
            "[Parallel(n_jobs=-1)]: Done  28 tasks      | elapsed:  1.6min\n",
            "[Parallel(n_jobs=-1)]: Done  37 tasks      | elapsed:  2.4min\n",
            "[Parallel(n_jobs=-1)]: Done  46 tasks      | elapsed:  3.0min\n",
            "[Parallel(n_jobs=-1)]: Done  57 tasks      | elapsed:  3.8min\n",
            "[Parallel(n_jobs=-1)]: Done  68 tasks      | elapsed:  5.4min\n",
            "[Parallel(n_jobs=-1)]: Done  75 out of  75 | elapsed: 10.8min finished\n",
            "/usr/local/lib/python3.6/dist-packages/sklearn/utils/validation.py:760: DataConversionWarning: A column-vector y was passed when a 1d array was expected. Please change the shape of y to (n_samples, ), for example using ravel().\n",
            "  y = column_or_1d(y, warn=True)\n"
          ],
          "name": "stderr"
        },
        {
          "output_type": "execute_result",
          "data": {
            "text/plain": [
              "GridSearchCV(cv=5, error_score=nan,\n",
              "             estimator=SVC(C=1.0, break_ties=False, cache_size=200,\n",
              "                           class_weight=None, coef0=0.0,\n",
              "                           decision_function_shape='ovr', degree=3,\n",
              "                           gamma='scale', kernel='rbf', max_iter=-1,\n",
              "                           probability=False, random_state=None, shrinking=True,\n",
              "                           tol=0.001, verbose=False),\n",
              "             iid='deprecated', n_jobs=-1,\n",
              "             param_grid=[{'C': [0.1, 1, 10, 100, 1000],\n",
              "                          'gamma': [0.001, 0.0001], 'kernel': ['rbf']},\n",
              "                         {'C': [0.1, 1, 10, 100, 1000], 'kernel': ['linear']}],\n",
              "             pre_dispatch='2*n_jobs', refit=True, return_train_score=False,\n",
              "             scoring=None, verbose=10)"
            ]
          },
          "metadata": {
            "tags": []
          },
          "execution_count": 44
        }
      ]
    },
    {
      "cell_type": "code",
      "metadata": {
        "colab": {
          "base_uri": "https://localhost:8080/"
        },
        "id": "1OZhD4YgQT3b",
        "outputId": "08b2cf50-a8a4-4324-d9cf-bb45a4371965"
      },
      "source": [
        "# View the accuracy score\n",
        "print('Best score for training data:', svm_model.best_score_,\"\\n\") \n",
        "\n",
        "# View the best parameters for the model found using grid search\n",
        "print('Best C:',svm_model.best_estimator_.C,\"\\n\") \n",
        "print('Best Kernel:',svm_model.best_estimator_.kernel,\"\\n\")\n",
        "print('Best Gamma:',svm_model.best_estimator_.gamma,\"\\n\")\n",
        "\n",
        "final_model = svm_model.best_estimator_\n",
        "Y_pred = final_model.predict(X_test_tfv)"
      ],
      "execution_count": null,
      "outputs": [
        {
          "output_type": "stream",
          "text": [
            "Best score for training data: 0.5147666444611863 \n",
            "\n",
            "Best C: 1 \n",
            "\n",
            "Best Kernel: linear \n",
            "\n",
            "Best Gamma: scale \n",
            "\n"
          ],
          "name": "stdout"
        }
      ]
    },
    {
      "cell_type": "code",
      "metadata": {
        "colab": {
          "base_uri": "https://localhost:8080/"
        },
        "id": "mdyhahmXQVIm",
        "outputId": "00e399e6-e72b-4750-e721-1cea6c4ec1b3"
      },
      "source": [
        "# Making the Confusion Matrix\n",
        "#print(pd.crosstab(Y_test_label, Y_pred_label, rownames=['Actual Activity'], \n",
        "#colnames=['Predicted Activity']))\n",
        "print(confusion_matrix(Y_test,Y_pred))\n",
        "print(\"\\n\")\n",
        "print(classification_report(Y_test,Y_pred))\n",
        "\n",
        "print(\"Training set score for SVM: %f\" % final_model.score(X_train_tfv , Y_train))\n",
        "print(\"Testing  set score for SVM: %f\" % final_model.score(X_test_tfv, Y_test))\n",
        "\n",
        "svm_model.score"
      ],
      "execution_count": null,
      "outputs": [
        {
          "output_type": "stream",
          "text": [
            "[[1191   10    0    1   40    5    9]\n",
            " [ 301   17    1    0   18    2    6]\n",
            " [  59    3    3    0    1    1    1]\n",
            " [  41    3    0    0    1    3    2]\n",
            " [ 311    6    1    0   69    3   12]\n",
            " [ 176    2    0    0    9   15    6]\n",
            " [ 198   12    0    0    6    2   63]]\n",
            "\n",
            "\n",
            "              precision    recall  f1-score   support\n",
            "\n",
            "           0       0.52      0.95      0.67      1256\n",
            "           1       0.32      0.05      0.09       345\n",
            "           2       0.60      0.04      0.08        68\n",
            "           3       0.00      0.00      0.00        50\n",
            "           4       0.48      0.17      0.25       402\n",
            "           5       0.48      0.07      0.13       208\n",
            "           6       0.64      0.22      0.33       281\n",
            "\n",
            "    accuracy                           0.52      2610\n",
            "   macro avg       0.43      0.22      0.22      2610\n",
            "weighted avg       0.49      0.52      0.42      2610\n",
            "\n",
            "Training set score for SVM: 0.585444\n",
            "Testing  set score for SVM: 0.520307\n"
          ],
          "name": "stdout"
        },
        {
          "output_type": "execute_result",
          "data": {
            "text/plain": [
              "<bound method BaseSearchCV.score of GridSearchCV(cv=5, error_score=nan,\n",
              "             estimator=SVC(C=1.0, break_ties=False, cache_size=200,\n",
              "                           class_weight=None, coef0=0.0,\n",
              "                           decision_function_shape='ovr', degree=3,\n",
              "                           gamma='scale', kernel='rbf', max_iter=-1,\n",
              "                           probability=False, random_state=None, shrinking=True,\n",
              "                           tol=0.001, verbose=False),\n",
              "             iid='deprecated', n_jobs=-1,\n",
              "             param_grid=[{'C': [0.1, 1, 10, 100, 1000],\n",
              "                          'gamma': [0.001, 0.0001], 'kernel': ['rbf']},\n",
              "                         {'C': [0.1, 1, 10, 100, 1000], 'kernel': ['linear']}],\n",
              "             pre_dispatch='2*n_jobs', refit=True, return_train_score=False,\n",
              "             scoring=None, verbose=10)>"
            ]
          },
          "metadata": {
            "tags": []
          },
          "execution_count": 46
        }
      ]
    },
    {
      "cell_type": "markdown",
      "metadata": {
        "id": "DgOM3Z6y5JdF"
      },
      "source": [
        "# SVM with truncated SVD"
      ]
    },
    {
      "cell_type": "code",
      "metadata": {
        "id": "bAZmKerxQVTw"
      },
      "source": [
        "# Apply SVD, I chose 120 components. 120-200 components are good enough for SVM model.\n",
        "svd = decomposition.TruncatedSVD(n_components=120)\n",
        "svd.fit(X_train_tfv)\n",
        "X_train_svd = svd.transform(X_train_tfv)\n",
        "X_valid_svd = svd.transform(X_valid_tfv)\n",
        "X_test_svd = svd.transform(X_test_tfv)\n",
        "\n",
        "# Scale the data obtained from SVD. Renaming variable to reuse without scaling.\n",
        "scl = preprocessing.StandardScaler()\n",
        "scl.fit(X_train_svd)\n",
        "X_train_svd_scl = scl.transform(X_train_svd)\n",
        "X_valid_svd_scl = scl.transform(X_valid_svd)\n",
        "X_test_svd_scl = scl.transform(X_test_svd)"
      ],
      "execution_count": null,
      "outputs": []
    },
    {
      "cell_type": "code",
      "metadata": {
        "colab": {
          "base_uri": "https://localhost:8080/"
        },
        "id": "gGtwHWeo5NJk",
        "outputId": "b27aae57-fecf-40fb-fad9-44da8cbb54bb"
      },
      "source": [
        "X_train_svd_scl.shape,X_valid_svd_scl.shape,X_test_svd_scl.shape"
      ],
      "execution_count": null,
      "outputs": [
        {
          "output_type": "execute_result",
          "data": {
            "text/plain": [
              "((9989, 120), (1109, 120), (2610, 120))"
            ]
          },
          "metadata": {
            "tags": []
          },
          "execution_count": 48
        }
      ]
    },
    {
      "cell_type": "code",
      "metadata": {
        "colab": {
          "base_uri": "https://localhost:8080/"
        },
        "id": "r9eD-5HFUS9w",
        "outputId": "16256412-ea9b-4398-f243-c1b04724b664"
      },
      "source": [
        "from sklearn.linear_model import SGDClassifier\n",
        "from sklearn.model_selection import GridSearchCV\n",
        "from sklearn.calibration import CalibratedClassifierCV\n",
        "\n",
        "# initialize Our first RandomForestRegressor model...\n",
        "svm = SVC(C=1)\n",
        "regr2 = CalibratedClassifierCV(svm)\n",
        "# declare parameters for hyperparameter tuning\n",
        "regr2.fit(X_train_svd_scl, Y_train)"
      ],
      "execution_count": null,
      "outputs": [
        {
          "output_type": "stream",
          "text": [
            "/usr/local/lib/python3.6/dist-packages/sklearn/utils/validation.py:760: DataConversionWarning: A column-vector y was passed when a 1d array was expected. Please change the shape of y to (n_samples, ), for example using ravel().\n",
            "  y = column_or_1d(y, warn=True)\n"
          ],
          "name": "stderr"
        },
        {
          "output_type": "execute_result",
          "data": {
            "text/plain": [
              "CalibratedClassifierCV(base_estimator=SVC(C=1, break_ties=False, cache_size=200,\n",
              "                                          class_weight=None, coef0=0.0,\n",
              "                                          decision_function_shape='ovr',\n",
              "                                          degree=3, gamma='scale', kernel='rbf',\n",
              "                                          max_iter=-1, probability=False,\n",
              "                                          random_state=None, shrinking=True,\n",
              "                                          tol=0.001, verbose=False),\n",
              "                       cv=None, method='sigmoid')"
            ]
          },
          "metadata": {
            "tags": []
          },
          "execution_count": 49
        }
      ]
    },
    {
      "cell_type": "code",
      "metadata": {
        "id": "Nba2jT0_U8Xp"
      },
      "source": [
        "predictions = regr2.predict(X_train_svd_scl)"
      ],
      "execution_count": null,
      "outputs": []
    },
    {
      "cell_type": "code",
      "metadata": {
        "colab": {
          "base_uri": "https://localhost:8080/"
        },
        "id": "IrUlKBvYVqjU",
        "outputId": "089754c6-2f6b-4f2e-d95c-f47d125480e6"
      },
      "source": [
        "print(\"Train accuracy:\")\n",
        "print(classification_report(Y_train, predictions))"
      ],
      "execution_count": null,
      "outputs": [
        {
          "output_type": "stream",
          "text": [
            "Train accuracy:\n",
            "              precision    recall  f1-score   support\n",
            "\n",
            "           0       0.51      0.98      0.67      4710\n",
            "           1       0.00      0.00      0.00      1109\n",
            "           2       0.00      0.00      0.00       271\n",
            "           3       0.00      0.00      0.00       268\n",
            "           4       0.70      0.13      0.22      1743\n",
            "           5       0.54      0.08      0.14       683\n",
            "           6       0.75      0.24      0.37      1205\n",
            "\n",
            "    accuracy                           0.52      9989\n",
            "   macro avg       0.36      0.20      0.20      9989\n",
            "weighted avg       0.49      0.52      0.41      9989\n",
            "\n"
          ],
          "name": "stdout"
        },
        {
          "output_type": "stream",
          "text": [
            "/usr/local/lib/python3.6/dist-packages/sklearn/metrics/_classification.py:1272: UndefinedMetricWarning: Precision and F-score are ill-defined and being set to 0.0 in labels with no predicted samples. Use `zero_division` parameter to control this behavior.\n",
            "  _warn_prf(average, modifier, msg_start, len(result))\n"
          ],
          "name": "stderr"
        }
      ]
    },
    {
      "cell_type": "code",
      "metadata": {
        "id": "Cg4J7OByV2Im"
      },
      "source": [
        "predictions = regr2.predict(X_valid_svd_scl)"
      ],
      "execution_count": null,
      "outputs": []
    },
    {
      "cell_type": "code",
      "metadata": {
        "colab": {
          "base_uri": "https://localhost:8080/"
        },
        "id": "UJVfpGBnYePS",
        "outputId": "8da3f486-2af9-418d-caba-d3a18f852b7c"
      },
      "source": [
        "print(\"Dev accuracy:\")\n",
        "print(classification_report(Y_dev, predictions))"
      ],
      "execution_count": null,
      "outputs": [
        {
          "output_type": "stream",
          "text": [
            "Dev accuracy:\n",
            "              precision    recall  f1-score   support\n",
            "\n",
            "           0       0.45      0.97      0.61       470\n",
            "           1       0.00      0.00      0.00       153\n",
            "           2       0.00      0.00      0.00        22\n",
            "           3       0.00      0.00      0.00        40\n",
            "           4       0.41      0.07      0.12       163\n",
            "           5       0.67      0.07      0.13       111\n",
            "           6       0.57      0.16      0.25       150\n",
            "\n",
            "    accuracy                           0.45      1109\n",
            "   macro avg       0.30      0.18      0.16      1109\n",
            "weighted avg       0.39      0.45      0.32      1109\n",
            "\n"
          ],
          "name": "stdout"
        },
        {
          "output_type": "stream",
          "text": [
            "/usr/local/lib/python3.6/dist-packages/sklearn/metrics/_classification.py:1272: UndefinedMetricWarning: Precision and F-score are ill-defined and being set to 0.0 in labels with no predicted samples. Use `zero_division` parameter to control this behavior.\n",
            "  _warn_prf(average, modifier, msg_start, len(result))\n"
          ],
          "name": "stderr"
        }
      ]
    },
    {
      "cell_type": "code",
      "metadata": {
        "id": "mNhnKog4ZV21"
      },
      "source": [
        "predictions = regr2.predict(X_test_svd_scl)"
      ],
      "execution_count": null,
      "outputs": []
    },
    {
      "cell_type": "code",
      "metadata": {
        "colab": {
          "base_uri": "https://localhost:8080/"
        },
        "id": "f-D05nJsanE7",
        "outputId": "831d2993-5fb7-4267-cf5e-4bf5164c6b27"
      },
      "source": [
        "print(\"Test accuracy:\")\n",
        "print(classification_report(Y_test, predictions))"
      ],
      "execution_count": null,
      "outputs": [
        {
          "output_type": "stream",
          "text": [
            "Test accuracy:\n",
            "              precision    recall  f1-score   support\n",
            "\n",
            "           0       0.50      0.97      0.66      1256\n",
            "           1       0.00      0.00      0.00       345\n",
            "           2       0.00      0.00      0.00        68\n",
            "           3       0.00      0.00      0.00        50\n",
            "           4       0.54      0.11      0.19       402\n",
            "           5       0.62      0.04      0.07       208\n",
            "           6       0.61      0.20      0.30       281\n",
            "\n",
            "    accuracy                           0.51      2610\n",
            "   macro avg       0.32      0.19      0.17      2610\n",
            "weighted avg       0.44      0.51      0.39      2610\n",
            "\n"
          ],
          "name": "stdout"
        },
        {
          "output_type": "stream",
          "text": [
            "/usr/local/lib/python3.6/dist-packages/sklearn/metrics/_classification.py:1272: UndefinedMetricWarning: Precision and F-score are ill-defined and being set to 0.0 in labels with no predicted samples. Use `zero_division` parameter to control this behavior.\n",
            "  _warn_prf(average, modifier, msg_start, len(result))\n"
          ],
          "name": "stderr"
        }
      ]
    },
    {
      "cell_type": "markdown",
      "metadata": {
        "id": "BrdD7Bv0Q158"
      },
      "source": [
        "# Word Vectors"
      ]
    },
    {
      "cell_type": "code",
      "metadata": {
        "id": "4JvWc9FaQ0_7"
      },
      "source": [
        "import pickle\n",
        "with open('glove_vectors', 'rb') as f:\n",
        "    model = pickle.load(f)\n",
        "    glove_words =  set(model.keys())"
      ],
      "execution_count": null,
      "outputs": []
    },
    {
      "cell_type": "code",
      "metadata": {
        "id": "tI1RFhYqTUiL"
      },
      "source": [
        "from tqdm import tqdm"
      ],
      "execution_count": null,
      "outputs": []
    },
    {
      "cell_type": "code",
      "metadata": {
        "colab": {
          "base_uri": "https://localhost:8080/"
        },
        "id": "IZR0i0mvQ4Lr",
        "outputId": "dec4c168-bf83-4c12-d4ca-c2aaa6193da0"
      },
      "source": [
        "# average Word2Vec\n",
        "# compute average word2vec for each review.\n",
        "avg_w2v_vectors_train = []; # the avg-w2v for each sentence/review is stored in this list\n",
        "for sentence in tqdm(X_train['CleanText']): # for each review/sentence\n",
        "    vector = np.zeros(300) # as word vectors are of zero length\n",
        "    cnt_words =0; # num of words with a valid vector in the sentence/review\n",
        "    for word in sentence.split(): # for each word in a review/sentence\n",
        "        if word in glove_words:\n",
        "            vector += model[word]\n",
        "            cnt_words += 1\n",
        "    if cnt_words != 0:\n",
        "        vector /= cnt_words\n",
        "    avg_w2v_vectors_train.append(vector)\n",
        "\n",
        "print(len(avg_w2v_vectors_train))\n",
        "print(len(avg_w2v_vectors_train[0]))"
      ],
      "execution_count": null,
      "outputs": [
        {
          "output_type": "stream",
          "text": [
            "100%|██████████| 9989/9989 [00:00<00:00, 76794.31it/s]"
          ],
          "name": "stderr"
        },
        {
          "output_type": "stream",
          "text": [
            "9989\n",
            "300\n"
          ],
          "name": "stdout"
        },
        {
          "output_type": "stream",
          "text": [
            "\n"
          ],
          "name": "stderr"
        }
      ]
    },
    {
      "cell_type": "code",
      "metadata": {
        "colab": {
          "base_uri": "https://localhost:8080/"
        },
        "id": "whAsjrAETSso",
        "outputId": "9e7de668-408e-4403-edd8-b63491201a11"
      },
      "source": [
        "# average Word2Vec\n",
        "# compute average word2vec for each review.\n",
        "avg_w2v_vectors_cv = []; # the avg-w2v for each sentence/review is stored in this list\n",
        "for sentence in tqdm(X_dev['CleanText']): # for each review/sentence\n",
        "    vector = np.zeros(300) # as word vectors are of zero length\n",
        "    cnt_words =0; # num of words with a valid vector in the sentence/review\n",
        "    for word in sentence.split(): # for each word in a review/sentence\n",
        "        if word in glove_words:\n",
        "            vector += model[word]\n",
        "            cnt_words += 1\n",
        "    if cnt_words != 0:\n",
        "        vector /= cnt_words\n",
        "    avg_w2v_vectors_cv.append(vector)\n",
        "\n",
        "print(len(avg_w2v_vectors_cv))\n",
        "print(len(avg_w2v_vectors_cv[0]))"
      ],
      "execution_count": null,
      "outputs": [
        {
          "output_type": "stream",
          "text": [
            "100%|██████████| 1109/1109 [00:00<00:00, 50064.94it/s]"
          ],
          "name": "stderr"
        },
        {
          "output_type": "stream",
          "text": [
            "1109\n",
            "300\n"
          ],
          "name": "stdout"
        },
        {
          "output_type": "stream",
          "text": [
            "\n"
          ],
          "name": "stderr"
        }
      ]
    },
    {
      "cell_type": "code",
      "metadata": {
        "colab": {
          "base_uri": "https://localhost:8080/"
        },
        "id": "rfhRkPAFQ4SB",
        "outputId": "3c53f79a-60ab-43e9-911e-701dea9e36da"
      },
      "source": [
        "# average Word2Vec\n",
        "# compute average word2vec for each review.\n",
        "avg_w2v_vectors_test = []; # the avg-w2v for each sentence/review is stored in this list\n",
        "for sentence in tqdm(X_test['CleanText']): # for each review/sentence\n",
        "    vector = np.zeros(300) # as word vectors are of zero length\n",
        "    cnt_words =0; # num of words with a valid vector in the sentence/review\n",
        "    for word in sentence.split(): # for each word in a review/sentence\n",
        "        if word in glove_words:\n",
        "            vector += model[word]\n",
        "            cnt_words += 1\n",
        "    if cnt_words != 0:\n",
        "        vector /= cnt_words\n",
        "    avg_w2v_vectors_test.append(vector)\n",
        "\n",
        "print(len(avg_w2v_vectors_test))\n",
        "print(len(avg_w2v_vectors_test[0]))"
      ],
      "execution_count": null,
      "outputs": [
        {
          "output_type": "stream",
          "text": [
            "100%|██████████| 2610/2610 [00:00<00:00, 83368.62it/s]"
          ],
          "name": "stderr"
        },
        {
          "output_type": "stream",
          "text": [
            "2610\n",
            "300\n"
          ],
          "name": "stdout"
        },
        {
          "output_type": "stream",
          "text": [
            "\n"
          ],
          "name": "stderr"
        }
      ]
    },
    {
      "cell_type": "code",
      "metadata": {
        "id": "9cJ2pFVdQ4VV"
      },
      "source": [
        "xtrain_glove = np.array(avg_w2v_vectors_train)\n",
        "xvalid_glove = np.array(avg_w2v_vectors_cv)\n",
        "xtest_glove = np.array(avg_w2v_vectors_test)"
      ],
      "execution_count": null,
      "outputs": []
    },
    {
      "cell_type": "code",
      "metadata": {
        "colab": {
          "base_uri": "https://localhost:8080/"
        },
        "id": "4uCEeHAnQ4ZP",
        "outputId": "3274fdda-2cb9-4096-85ad-403a6ae2342d"
      },
      "source": [
        "import xgboost as xgb\n",
        "\n",
        "# Fitting a simple xgboost on glove features\n",
        "clf = xgb.XGBClassifier(max_depth=7, n_estimators=200, colsample_bytree=0.8, \n",
        "                        subsample=0.8, nthread=10, learning_rate=0.1, silent=False)\n",
        "clf.fit(xtrain_glove, Y_train)\n",
        "predictions = clf.predict(xvalid_glove)\n",
        "\n",
        "\n",
        "print (\"Dev loss:\")\n",
        "print(classification_report(Y_dev, predictions))"
      ],
      "execution_count": null,
      "outputs": [
        {
          "output_type": "stream",
          "text": [
            "/usr/local/lib/python3.6/dist-packages/sklearn/preprocessing/_label.py:235: DataConversionWarning: A column-vector y was passed when a 1d array was expected. Please change the shape of y to (n_samples, ), for example using ravel().\n",
            "  y = column_or_1d(y, warn=True)\n",
            "/usr/local/lib/python3.6/dist-packages/sklearn/preprocessing/_label.py:268: DataConversionWarning: A column-vector y was passed when a 1d array was expected. Please change the shape of y to (n_samples, ), for example using ravel().\n",
            "  y = column_or_1d(y, warn=True)\n"
          ],
          "name": "stderr"
        },
        {
          "output_type": "stream",
          "text": [
            "Dev loss:\n",
            "              precision    recall  f1-score   support\n",
            "\n",
            "           0       0.47      0.94      0.62       470\n",
            "           1       0.13      0.03      0.04       153\n",
            "           2       0.67      0.09      0.16        22\n",
            "           3       0.33      0.03      0.05        40\n",
            "           4       0.36      0.15      0.21       163\n",
            "           5       0.61      0.10      0.17       111\n",
            "           6       0.55      0.15      0.23       150\n",
            "\n",
            "    accuracy                           0.46      1109\n",
            "   macro avg       0.45      0.21      0.21      1109\n",
            "weighted avg       0.43      0.46      0.35      1109\n",
            "\n"
          ],
          "name": "stdout"
        }
      ]
    },
    {
      "cell_type": "code",
      "metadata": {
        "colab": {
          "base_uri": "https://localhost:8080/"
        },
        "id": "ftYD6wfLQ4a2",
        "outputId": "8efacc00-6731-46bf-fcc8-cb349d0abe9f"
      },
      "source": [
        "predictions = clf.predict(xtest_glove)\n",
        "\n",
        "print (\"Test loss:\")\n",
        "print(classification_report(Y_test, predictions))"
      ],
      "execution_count": null,
      "outputs": [
        {
          "output_type": "stream",
          "text": [
            "Test loss:\n",
            "              precision    recall  f1-score   support\n",
            "\n",
            "           0       0.52      0.92      0.66      1256\n",
            "           1       0.32      0.05      0.09       345\n",
            "           2       0.75      0.04      0.08        68\n",
            "           3       0.00      0.00      0.00        50\n",
            "           4       0.51      0.22      0.31       402\n",
            "           5       0.49      0.08      0.14       208\n",
            "           6       0.62      0.22      0.32       281\n",
            "\n",
            "    accuracy                           0.52      2610\n",
            "   macro avg       0.46      0.22      0.23      2610\n",
            "weighted avg       0.49      0.52      0.43      2610\n",
            "\n"
          ],
          "name": "stdout"
        }
      ]
    },
    {
      "cell_type": "code",
      "metadata": {
        "id": "DcMK0CF8Q4et"
      },
      "source": [
        ""
      ],
      "execution_count": null,
      "outputs": []
    },
    {
      "cell_type": "code",
      "metadata": {
        "id": "ydnnqXbEQ4gh"
      },
      "source": [
        ""
      ],
      "execution_count": null,
      "outputs": []
    },
    {
      "cell_type": "code",
      "metadata": {
        "id": "SQDLTYCUQ4it"
      },
      "source": [
        ""
      ],
      "execution_count": null,
      "outputs": []
    },
    {
      "cell_type": "markdown",
      "metadata": {
        "id": "xT4B-5ZeMaWq"
      },
      "source": [
        "# MPL"
      ]
    },
    {
      "cell_type": "code",
      "metadata": {
        "id": "NfsDTfd_asbv"
      },
      "source": [
        "# scale the data before any neural net:\n",
        "scl = preprocessing.StandardScaler()\n",
        "xtrain_glove_scl = scl.fit_transform(xtrain_glove)\n",
        "xvalid_glove_scl = scl.transform(xvalid_glove)\n",
        "xtest_glove_scl = scl.transform(xtest_glove)"
      ],
      "execution_count": null,
      "outputs": []
    },
    {
      "cell_type": "code",
      "metadata": {
        "id": "Rjh-gkrvow0r"
      },
      "source": [
        "y_train_nn = np_utils.to_categorical(Y_train)\n",
        "y_cv_nn = np_utils.to_categorical(Y_dev)\n",
        "y_test_nn = np_utils.to_categorical(Y_test)"
      ],
      "execution_count": null,
      "outputs": []
    },
    {
      "cell_type": "code",
      "metadata": {
        "id": "yoHpupzQq7jl"
      },
      "source": [
        "model = Sequential()\n",
        "\n",
        "model.add(Dense(128, input_dim=300, activation='relu'))\n",
        "model.add(Dropout(0.2))\n",
        "model.add(BatchNormalization())\n",
        "\n",
        "model.add(Dense(256, activation='relu'))\n",
        "model.add(Dropout(0.3))\n",
        "model.add(BatchNormalization())\n",
        "\n",
        "model.add(Dense(256, activation='relu'))\n",
        "model.add(Dropout(0.3))\n",
        "model.add(BatchNormalization())\n",
        "\n",
        "model.add(Dense(128, activation='relu'))\n",
        "model.add(Dropout(0.3))\n",
        "model.add(BatchNormalization())\n",
        "\n",
        "model.add(Dense(7))\n",
        "model.add(Activation('softmax'))\n",
        "\n",
        "# compile the model\n",
        "model.compile(loss='categorical_crossentropy', optimizer='adam', metrics=['accuracy'])"
      ],
      "execution_count": null,
      "outputs": []
    },
    {
      "cell_type": "code",
      "metadata": {
        "colab": {
          "base_uri": "https://localhost:8080/"
        },
        "id": "w5taq3Lg1R2e",
        "outputId": "78dc5c06-fa07-4d67-d737-be8204f6c9bd"
      },
      "source": [
        "model.summary()"
      ],
      "execution_count": null,
      "outputs": [
        {
          "output_type": "stream",
          "text": [
            "Model: \"sequential_2\"\n",
            "_________________________________________________________________\n",
            "Layer (type)                 Output Shape              Param #   \n",
            "=================================================================\n",
            "dense_10 (Dense)             (None, 128)               38528     \n",
            "_________________________________________________________________\n",
            "dropout_8 (Dropout)          (None, 128)               0         \n",
            "_________________________________________________________________\n",
            "batch_normalization_8 (Batch (None, 128)               512       \n",
            "_________________________________________________________________\n",
            "dense_11 (Dense)             (None, 256)               33024     \n",
            "_________________________________________________________________\n",
            "dropout_9 (Dropout)          (None, 256)               0         \n",
            "_________________________________________________________________\n",
            "batch_normalization_9 (Batch (None, 256)               1024      \n",
            "_________________________________________________________________\n",
            "dense_12 (Dense)             (None, 256)               65792     \n",
            "_________________________________________________________________\n",
            "dropout_10 (Dropout)         (None, 256)               0         \n",
            "_________________________________________________________________\n",
            "batch_normalization_10 (Batc (None, 256)               1024      \n",
            "_________________________________________________________________\n",
            "dense_13 (Dense)             (None, 128)               32896     \n",
            "_________________________________________________________________\n",
            "dropout_11 (Dropout)         (None, 128)               0         \n",
            "_________________________________________________________________\n",
            "batch_normalization_11 (Batc (None, 128)               512       \n",
            "_________________________________________________________________\n",
            "dense_14 (Dense)             (None, 7)                 903       \n",
            "_________________________________________________________________\n",
            "activation_2 (Activation)    (None, 7)                 0         \n",
            "=================================================================\n",
            "Total params: 174,215\n",
            "Trainable params: 172,679\n",
            "Non-trainable params: 1,536\n",
            "_________________________________________________________________\n"
          ],
          "name": "stdout"
        }
      ]
    },
    {
      "cell_type": "code",
      "metadata": {
        "colab": {
          "base_uri": "https://localhost:8080/"
        },
        "id": "G9kHCAuc1X0E",
        "outputId": "135a993e-99f9-4ede-b206-19f9ea93a90b"
      },
      "source": [
        "history = model.fit(xtrain_glove_scl, y=y_train_nn, batch_size=64, \n",
        "          epochs=10, verbose=1, \n",
        "          validation_data=(xtest_glove_scl, y_test_nn))"
      ],
      "execution_count": null,
      "outputs": [
        {
          "output_type": "stream",
          "text": [
            "Epoch 1/10\n",
            "157/157 [==============================] - 1s 6ms/step - loss: 2.0160 - accuracy: 0.3032 - val_loss: 1.4729 - val_accuracy: 0.5138\n",
            "Epoch 2/10\n",
            "157/157 [==============================] - 1s 5ms/step - loss: 1.6205 - accuracy: 0.4504 - val_loss: 1.4264 - val_accuracy: 0.5184\n",
            "Epoch 3/10\n",
            "157/157 [==============================] - 1s 5ms/step - loss: 1.5155 - accuracy: 0.4848 - val_loss: 1.4278 - val_accuracy: 0.5184\n",
            "Epoch 4/10\n",
            "157/157 [==============================] - 1s 5ms/step - loss: 1.4733 - accuracy: 0.4983 - val_loss: 1.4030 - val_accuracy: 0.5165\n",
            "Epoch 5/10\n",
            "157/157 [==============================] - 1s 5ms/step - loss: 1.4446 - accuracy: 0.5016 - val_loss: 1.3935 - val_accuracy: 0.5184\n",
            "Epoch 6/10\n",
            "157/157 [==============================] - 1s 5ms/step - loss: 1.4113 - accuracy: 0.5139 - val_loss: 1.3858 - val_accuracy: 0.5222\n",
            "Epoch 7/10\n",
            "157/157 [==============================] - 1s 5ms/step - loss: 1.3990 - accuracy: 0.5150 - val_loss: 1.3827 - val_accuracy: 0.5199\n",
            "Epoch 8/10\n",
            "157/157 [==============================] - 1s 5ms/step - loss: 1.3885 - accuracy: 0.5165 - val_loss: 1.3785 - val_accuracy: 0.5234\n",
            "Epoch 9/10\n",
            "157/157 [==============================] - 1s 5ms/step - loss: 1.3762 - accuracy: 0.5236 - val_loss: 1.3752 - val_accuracy: 0.5253\n",
            "Epoch 10/10\n",
            "157/157 [==============================] - 1s 5ms/step - loss: 1.3636 - accuracy: 0.5253 - val_loss: 1.3784 - val_accuracy: 0.5280\n"
          ],
          "name": "stdout"
        }
      ]
    },
    {
      "cell_type": "code",
      "metadata": {
        "id": "L8wcCRdc4Bdm"
      },
      "source": [
        "# using keras tokenizer here\n",
        "token = text.Tokenizer(num_words=None)\n",
        "max_len = 70\n",
        "a =list(X_train['CleanText']) + list(X_dev['CleanText']) + list(X_test['CleanText'])\n",
        "token.fit_on_texts(a)\n",
        "xtrain_seq = token.texts_to_sequences(X_train['CleanText'])\n",
        "xvalid_seq = token.texts_to_sequences(X_dev['CleanText'])\n",
        "xtest_seq = token.texts_to_sequences(X_test['CleanText'])\n",
        "\n",
        "# zero pad the sequences\n",
        "xtrain_pad = sequence.pad_sequences(xtrain_seq, maxlen=max_len)\n",
        "xvalid_pad = sequence.pad_sequences(xvalid_seq, maxlen=max_len)\n",
        "xtest_pad = sequence.pad_sequences(xtest_seq, maxlen=max_len)\n",
        "\n",
        "word_index = token.word_index"
      ],
      "execution_count": null,
      "outputs": []
    },
    {
      "cell_type": "code",
      "metadata": {
        "colab": {
          "base_uri": "https://localhost:8080/",
          "height": 248
        },
        "id": "LJUdGsqNdS1_",
        "outputId": "3555c65f-ee35-4ecf-ef7d-8d6e89be8be1"
      },
      "source": [
        "# create an embedding matrix for the words we have in the dataset\n",
        "embedding_matrix = np.zeros((len(word_index) + 1, 300))\n",
        "for word, i in tqdm(word_index.items()):\n",
        "    embedding_vector = embeddings_index.get(word)\n",
        "    if embedding_vector is not None:\n",
        "        embedding_matrix[i] = embedding_vector"
      ],
      "execution_count": null,
      "outputs": [
        {
          "output_type": "stream",
          "text": [
            "  0%|          | 0/5268 [00:00<?, ?it/s]\n"
          ],
          "name": "stderr"
        },
        {
          "output_type": "error",
          "ename": "NameError",
          "evalue": "ignored",
          "traceback": [
            "\u001b[0;31m---------------------------------------------------------------------------\u001b[0m",
            "\u001b[0;31mNameError\u001b[0m                                 Traceback (most recent call last)",
            "\u001b[0;32m<ipython-input-88-1f8461cf0ffe>\u001b[0m in \u001b[0;36m<module>\u001b[0;34m()\u001b[0m\n\u001b[1;32m      2\u001b[0m \u001b[0membedding_matrix\u001b[0m \u001b[0;34m=\u001b[0m \u001b[0mnp\u001b[0m\u001b[0;34m.\u001b[0m\u001b[0mzeros\u001b[0m\u001b[0;34m(\u001b[0m\u001b[0;34m(\u001b[0m\u001b[0mlen\u001b[0m\u001b[0;34m(\u001b[0m\u001b[0mword_index\u001b[0m\u001b[0;34m)\u001b[0m \u001b[0;34m+\u001b[0m \u001b[0;36m1\u001b[0m\u001b[0;34m,\u001b[0m \u001b[0;36m300\u001b[0m\u001b[0;34m)\u001b[0m\u001b[0;34m)\u001b[0m\u001b[0;34m\u001b[0m\u001b[0;34m\u001b[0m\u001b[0m\n\u001b[1;32m      3\u001b[0m \u001b[0;32mfor\u001b[0m \u001b[0mword\u001b[0m\u001b[0;34m,\u001b[0m \u001b[0mi\u001b[0m \u001b[0;32min\u001b[0m \u001b[0mtqdm\u001b[0m\u001b[0;34m(\u001b[0m\u001b[0mword_index\u001b[0m\u001b[0;34m.\u001b[0m\u001b[0mitems\u001b[0m\u001b[0;34m(\u001b[0m\u001b[0;34m)\u001b[0m\u001b[0;34m)\u001b[0m\u001b[0;34m:\u001b[0m\u001b[0;34m\u001b[0m\u001b[0;34m\u001b[0m\u001b[0m\n\u001b[0;32m----> 4\u001b[0;31m     \u001b[0membedding_vector\u001b[0m \u001b[0;34m=\u001b[0m \u001b[0membeddings_index\u001b[0m\u001b[0;34m.\u001b[0m\u001b[0mget\u001b[0m\u001b[0;34m(\u001b[0m\u001b[0mword\u001b[0m\u001b[0;34m)\u001b[0m\u001b[0;34m\u001b[0m\u001b[0;34m\u001b[0m\u001b[0m\n\u001b[0m\u001b[1;32m      5\u001b[0m     \u001b[0;32mif\u001b[0m \u001b[0membedding_vector\u001b[0m \u001b[0;32mis\u001b[0m \u001b[0;32mnot\u001b[0m \u001b[0;32mNone\u001b[0m\u001b[0;34m:\u001b[0m\u001b[0;34m\u001b[0m\u001b[0;34m\u001b[0m\u001b[0m\n\u001b[1;32m      6\u001b[0m         \u001b[0membedding_matrix\u001b[0m\u001b[0;34m[\u001b[0m\u001b[0mi\u001b[0m\u001b[0;34m]\u001b[0m \u001b[0;34m=\u001b[0m \u001b[0membedding_vector\u001b[0m\u001b[0;34m\u001b[0m\u001b[0;34m\u001b[0m\u001b[0m\n",
            "\u001b[0;31mNameError\u001b[0m: name 'embeddings_index' is not defined"
          ]
        }
      ]
    },
    {
      "cell_type": "code",
      "metadata": {
        "id": "qAP58T85jKaF"
      },
      "source": [
        ""
      ],
      "execution_count": null,
      "outputs": []
    }
  ]
}