{
  "nbformat": 4,
  "nbformat_minor": 0,
  "metadata": {
    "kernelspec": {
      "display_name": "Python 3",
      "language": "python",
      "name": "python3"
    },
    "language_info": {
      "codemirror_mode": {
        "name": "ipython",
        "version": 3
      },
      "file_extension": ".py",
      "mimetype": "text/x-python",
      "name": "python",
      "nbconvert_exporter": "python",
      "pygments_lexer": "ipython3",
      "version": "3.7.3"
    },
    "colab": {
      "name": "dailydialog-sentiment-analysis.ipynb",
      "provenance": [],
      "toc_visible": true
    }
  },
  "cells": [
    {
      "cell_type": "code",
      "metadata": {
        "colab": {
          "base_uri": "https://localhost:8080/"
        },
        "id": "VbmbN_aCP5hN",
        "outputId": "08e05d28-7d9b-40c9-e775-dd4a9e89d33e"
      },
      "source": [
        "import pandas as pd\n",
        "import numpy as np\n",
        "import matplotlib.pyplot as plt\n",
        "from nltk.tokenize import word_tokenize\n",
        "from nltk.corpus import stopwords\n",
        "from nltk.stem import WordNetLemmatizer\n",
        "import nltk\n",
        "nltk.download('wordnet')\n",
        "from nltk.corpus import wordnet\n",
        "import random\n",
        "import re\n",
        "nltk.download('punkt')\n",
        "nltk.download('stopwords')\n",
        "stop_words = stopwords.words('english')\n",
        "lemmatizer = WordNetLemmatizer()"
      ],
      "execution_count": null,
      "outputs": [
        {
          "output_type": "stream",
          "text": [
            "[nltk_data] Downloading package wordnet to /root/nltk_data...\n",
            "[nltk_data]   Unzipping corpora/wordnet.zip.\n",
            "[nltk_data] Downloading package punkt to /root/nltk_data...\n",
            "[nltk_data]   Unzipping tokenizers/punkt.zip.\n",
            "[nltk_data] Downloading package stopwords to /root/nltk_data...\n",
            "[nltk_data]   Unzipping corpora/stopwords.zip.\n"
          ],
          "name": "stdout"
        }
      ]
    },
    {
      "cell_type": "code",
      "metadata": {
        "id": "hCLQEvL8P5hO"
      },
      "source": [
        "#df = pd.read_csv('dailydialog.csv')\n",
        "df = pd.read_excel(r'train_s.xlsx')\n",
        "dev = pd.read_excel(r'dev_file.xlsx')"
      ],
      "execution_count": null,
      "outputs": []
    },
    {
      "cell_type": "code",
      "metadata": {
        "colab": {
          "base_uri": "https://localhost:8080/"
        },
        "id": "c4mI0GFTP5hO",
        "outputId": "5ab499e2-8b67-49b1-e4ea-9e33ba07d1b7"
      },
      "source": [
        "no = ('not' in set(stop_words))\n",
        "no"
      ],
      "execution_count": null,
      "outputs": [
        {
          "output_type": "execute_result",
          "data": {
            "text/plain": [
              "True"
            ]
          },
          "metadata": {
            "tags": []
          },
          "execution_count": 73
        }
      ]
    },
    {
      "cell_type": "code",
      "metadata": {
        "colab": {
          "base_uri": "https://localhost:8080/",
          "height": 479
        },
        "id": "KodSXYs1P5hQ",
        "outputId": "6cf59ff0-973f-48f2-9cd3-0d2e73a2dcb2"
      },
      "source": [
        "df.head()"
      ],
      "execution_count": null,
      "outputs": [
        {
          "output_type": "execute_result",
          "data": {
            "text/html": [
              "<div>\n",
              "<style scoped>\n",
              "    .dataframe tbody tr th:only-of-type {\n",
              "        vertical-align: middle;\n",
              "    }\n",
              "\n",
              "    .dataframe tbody tr th {\n",
              "        vertical-align: top;\n",
              "    }\n",
              "\n",
              "    .dataframe thead th {\n",
              "        text-align: right;\n",
              "    }\n",
              "</style>\n",
              "<table border=\"1\" class=\"dataframe\">\n",
              "  <thead>\n",
              "    <tr style=\"text-align: right;\">\n",
              "      <th></th>\n",
              "      <th>Sr No.</th>\n",
              "      <th>Utterance</th>\n",
              "      <th>Speaker</th>\n",
              "      <th>Emotion</th>\n",
              "      <th>Sentiment</th>\n",
              "      <th>Dialogue_ID</th>\n",
              "      <th>Utterance_ID</th>\n",
              "      <th>Season</th>\n",
              "      <th>Episode</th>\n",
              "      <th>StartTime</th>\n",
              "      <th>EndTime</th>\n",
              "    </tr>\n",
              "  </thead>\n",
              "  <tbody>\n",
              "    <tr>\n",
              "      <th>0</th>\n",
              "      <td>1</td>\n",
              "      <td>also I was the point person on my company’s tr...</td>\n",
              "      <td>Chandler</td>\n",
              "      <td>neutral</td>\n",
              "      <td>neutral</td>\n",
              "      <td>0</td>\n",
              "      <td>0</td>\n",
              "      <td>8</td>\n",
              "      <td>21</td>\n",
              "      <td>00:16:16,059</td>\n",
              "      <td>00:16:21,731</td>\n",
              "    </tr>\n",
              "    <tr>\n",
              "      <th>1</th>\n",
              "      <td>2</td>\n",
              "      <td>You must’ve had your hands full.</td>\n",
              "      <td>The Interviewer</td>\n",
              "      <td>neutral</td>\n",
              "      <td>neutral</td>\n",
              "      <td>0</td>\n",
              "      <td>1</td>\n",
              "      <td>8</td>\n",
              "      <td>21</td>\n",
              "      <td>00:16:21,940</td>\n",
              "      <td>00:16:23,442</td>\n",
              "    </tr>\n",
              "    <tr>\n",
              "      <th>2</th>\n",
              "      <td>3</td>\n",
              "      <td>That I did. That I did.</td>\n",
              "      <td>Chandler</td>\n",
              "      <td>neutral</td>\n",
              "      <td>neutral</td>\n",
              "      <td>0</td>\n",
              "      <td>2</td>\n",
              "      <td>8</td>\n",
              "      <td>21</td>\n",
              "      <td>00:16:23,442</td>\n",
              "      <td>00:16:26,389</td>\n",
              "    </tr>\n",
              "    <tr>\n",
              "      <th>3</th>\n",
              "      <td>4</td>\n",
              "      <td>So let’s talk a little bit about your duties.</td>\n",
              "      <td>The Interviewer</td>\n",
              "      <td>neutral</td>\n",
              "      <td>neutral</td>\n",
              "      <td>0</td>\n",
              "      <td>3</td>\n",
              "      <td>8</td>\n",
              "      <td>21</td>\n",
              "      <td>00:16:26,820</td>\n",
              "      <td>00:16:29,572</td>\n",
              "    </tr>\n",
              "    <tr>\n",
              "      <th>4</th>\n",
              "      <td>5</td>\n",
              "      <td>My duties?  All right.</td>\n",
              "      <td>Chandler</td>\n",
              "      <td>surprise</td>\n",
              "      <td>positive</td>\n",
              "      <td>0</td>\n",
              "      <td>4</td>\n",
              "      <td>8</td>\n",
              "      <td>21</td>\n",
              "      <td>00:16:34,452</td>\n",
              "      <td>00:16:40,917</td>\n",
              "    </tr>\n",
              "  </tbody>\n",
              "</table>\n",
              "</div>"
            ],
            "text/plain": [
              "   Sr No.  ...       EndTime\n",
              "0       1  ...  00:16:21,731\n",
              "1       2  ...  00:16:23,442\n",
              "2       3  ...  00:16:26,389\n",
              "3       4  ...  00:16:29,572\n",
              "4       5  ...  00:16:40,917\n",
              "\n",
              "[5 rows x 11 columns]"
            ]
          },
          "metadata": {
            "tags": []
          },
          "execution_count": 3
        }
      ]
    },
    {
      "cell_type": "code",
      "metadata": {
        "colab": {
          "base_uri": "https://localhost:8080/",
          "height": 265
        },
        "id": "cj58R0awP5hQ",
        "outputId": "6b392545-b8cc-48fc-e718-298af61e1152"
      },
      "source": [
        "df.Emotion.hist()\n",
        "plt.show()"
      ],
      "execution_count": null,
      "outputs": [
        {
          "output_type": "display_data",
          "data": {
            "image/png": "[encoded data removed]",
            "text/plain": [
              "<Figure size 432x288 with 1 Axes>"
            ]
          },
          "metadata": {
            "tags": [],
            "needs_background": "light"
          }
        }
      ]
    },
    {
      "cell_type": "code",
      "metadata": {
        "colab": {
          "base_uri": "https://localhost:8080/"
        },
        "id": "lmUSig2-P5hR",
        "outputId": "6a64a614-72bc-4b9f-e8e5-7ba29102530a"
      },
      "source": [
        "df.Emotion.value_counts()"
      ],
      "execution_count": null,
      "outputs": [
        {
          "output_type": "execute_result",
          "data": {
            "text/plain": [
              "neutral     4710\n",
              "joy         1743\n",
              "surprise    1205\n",
              "anger       1109\n",
              "sadness      683\n",
              "disgust      271\n",
              "fear         268\n",
              "Name: Emotion, dtype: int64"
            ]
          },
          "metadata": {
            "tags": []
          },
          "execution_count": 5
        }
      ]
    },
    {
      "cell_type": "code",
      "metadata": {
        "id": "2CCL8HV7E619"
      },
      "source": [
        "def LabelFunc(rating):\n",
        "    if rating == 'neutral':\n",
        "        return 0\n",
        "    elif rating == 'anger':\n",
        "        return 1\n",
        "    elif rating == 'disgust':\n",
        "        return 2\n",
        "    elif rating == 'fear':\n",
        "        return 3\n",
        "    elif rating == 'joy':\n",
        "        return 4\n",
        "    elif rating == 'sadness':\n",
        "        return 5\n",
        "    elif rating == 'surprise':\n",
        "        return 6  \n",
        "\n",
        "df['Label'] = df['Emotion'].apply(LabelFunc)    "
      ],
      "execution_count": null,
      "outputs": []
    },
    {
      "cell_type": "code",
      "metadata": {
        "colab": {
          "base_uri": "https://localhost:8080/",
          "height": 479
        },
        "id": "7c6JK6DtFo8R",
        "outputId": "c6596297-08de-494b-e695-4c0a20179c0f"
      },
      "source": [
        "df.head()"
      ],
      "execution_count": null,
      "outputs": [
        {
          "output_type": "execute_result",
          "data": {
            "text/html": [
              "<div>\n",
              "<style scoped>\n",
              "    .dataframe tbody tr th:only-of-type {\n",
              "        vertical-align: middle;\n",
              "    }\n",
              "\n",
              "    .dataframe tbody tr th {\n",
              "        vertical-align: top;\n",
              "    }\n",
              "\n",
              "    .dataframe thead th {\n",
              "        text-align: right;\n",
              "    }\n",
              "</style>\n",
              "<table border=\"1\" class=\"dataframe\">\n",
              "  <thead>\n",
              "    <tr style=\"text-align: right;\">\n",
              "      <th></th>\n",
              "      <th>Sr No.</th>\n",
              "      <th>Utterance</th>\n",
              "      <th>Speaker</th>\n",
              "      <th>Emotion</th>\n",
              "      <th>Sentiment</th>\n",
              "      <th>Dialogue_ID</th>\n",
              "      <th>Utterance_ID</th>\n",
              "      <th>Season</th>\n",
              "      <th>Episode</th>\n",
              "      <th>StartTime</th>\n",
              "      <th>EndTime</th>\n",
              "      <th>Label</th>\n",
              "    </tr>\n",
              "  </thead>\n",
              "  <tbody>\n",
              "    <tr>\n",
              "      <th>0</th>\n",
              "      <td>1</td>\n",
              "      <td>also I was the point person on my company’s tr...</td>\n",
              "      <td>Chandler</td>\n",
              "      <td>neutral</td>\n",
              "      <td>neutral</td>\n",
              "      <td>0</td>\n",
              "      <td>0</td>\n",
              "      <td>8</td>\n",
              "      <td>21</td>\n",
              "      <td>00:16:16,059</td>\n",
              "      <td>00:16:21,731</td>\n",
              "      <td>0</td>\n",
              "    </tr>\n",
              "    <tr>\n",
              "      <th>1</th>\n",
              "      <td>2</td>\n",
              "      <td>You must’ve had your hands full.</td>\n",
              "      <td>The Interviewer</td>\n",
              "      <td>neutral</td>\n",
              "      <td>neutral</td>\n",
              "      <td>0</td>\n",
              "      <td>1</td>\n",
              "      <td>8</td>\n",
              "      <td>21</td>\n",
              "      <td>00:16:21,940</td>\n",
              "      <td>00:16:23,442</td>\n",
              "      <td>0</td>\n",
              "    </tr>\n",
              "    <tr>\n",
              "      <th>2</th>\n",
              "      <td>3</td>\n",
              "      <td>That I did. That I did.</td>\n",
              "      <td>Chandler</td>\n",
              "      <td>neutral</td>\n",
              "      <td>neutral</td>\n",
              "      <td>0</td>\n",
              "      <td>2</td>\n",
              "      <td>8</td>\n",
              "      <td>21</td>\n",
              "      <td>00:16:23,442</td>\n",
              "      <td>00:16:26,389</td>\n",
              "      <td>0</td>\n",
              "    </tr>\n",
              "    <tr>\n",
              "      <th>3</th>\n",
              "      <td>4</td>\n",
              "      <td>So let’s talk a little bit about your duties.</td>\n",
              "      <td>The Interviewer</td>\n",
              "      <td>neutral</td>\n",
              "      <td>neutral</td>\n",
              "      <td>0</td>\n",
              "      <td>3</td>\n",
              "      <td>8</td>\n",
              "      <td>21</td>\n",
              "      <td>00:16:26,820</td>\n",
              "      <td>00:16:29,572</td>\n",
              "      <td>0</td>\n",
              "    </tr>\n",
              "    <tr>\n",
              "      <th>4</th>\n",
              "      <td>5</td>\n",
              "      <td>My duties?  All right.</td>\n",
              "      <td>Chandler</td>\n",
              "      <td>surprise</td>\n",
              "      <td>positive</td>\n",
              "      <td>0</td>\n",
              "      <td>4</td>\n",
              "      <td>8</td>\n",
              "      <td>21</td>\n",
              "      <td>00:16:34,452</td>\n",
              "      <td>00:16:40,917</td>\n",
              "      <td>6</td>\n",
              "    </tr>\n",
              "  </tbody>\n",
              "</table>\n",
              "</div>"
            ],
            "text/plain": [
              "   Sr No.  ... Label\n",
              "0       1  ...     0\n",
              "1       2  ...     0\n",
              "2       3  ...     0\n",
              "3       4  ...     0\n",
              "4       5  ...     6\n",
              "\n",
              "[5 rows x 12 columns]"
            ]
          },
          "metadata": {
            "tags": []
          },
          "execution_count": 7
        }
      ]
    },
    {
      "cell_type": "code",
      "metadata": {
        "id": "dthhVXFXGHAt"
      },
      "source": [
        "df = df[['Utterance','Emotion','Label']]"
      ],
      "execution_count": null,
      "outputs": []
    },
    {
      "cell_type": "code",
      "metadata": {
        "colab": {
          "base_uri": "https://localhost:8080/",
          "height": 204
        },
        "id": "OI6rM1cHFsBo",
        "outputId": "2778d675-4839-41e1-c789-5529f33bf98b"
      },
      "source": [
        "df.head()"
      ],
      "execution_count": null,
      "outputs": [
        {
          "output_type": "execute_result",
          "data": {
            "text/html": [
              "<div>\n",
              "<style scoped>\n",
              "    .dataframe tbody tr th:only-of-type {\n",
              "        vertical-align: middle;\n",
              "    }\n",
              "\n",
              "    .dataframe tbody tr th {\n",
              "        vertical-align: top;\n",
              "    }\n",
              "\n",
              "    .dataframe thead th {\n",
              "        text-align: right;\n",
              "    }\n",
              "</style>\n",
              "<table border=\"1\" class=\"dataframe\">\n",
              "  <thead>\n",
              "    <tr style=\"text-align: right;\">\n",
              "      <th></th>\n",
              "      <th>Utterance</th>\n",
              "      <th>Emotion</th>\n",
              "      <th>Label</th>\n",
              "    </tr>\n",
              "  </thead>\n",
              "  <tbody>\n",
              "    <tr>\n",
              "      <th>0</th>\n",
              "      <td>also I was the point person on my company’s tr...</td>\n",
              "      <td>neutral</td>\n",
              "      <td>0</td>\n",
              "    </tr>\n",
              "    <tr>\n",
              "      <th>1</th>\n",
              "      <td>You must’ve had your hands full.</td>\n",
              "      <td>neutral</td>\n",
              "      <td>0</td>\n",
              "    </tr>\n",
              "    <tr>\n",
              "      <th>2</th>\n",
              "      <td>That I did. That I did.</td>\n",
              "      <td>neutral</td>\n",
              "      <td>0</td>\n",
              "    </tr>\n",
              "    <tr>\n",
              "      <th>3</th>\n",
              "      <td>So let’s talk a little bit about your duties.</td>\n",
              "      <td>neutral</td>\n",
              "      <td>0</td>\n",
              "    </tr>\n",
              "    <tr>\n",
              "      <th>4</th>\n",
              "      <td>My duties?  All right.</td>\n",
              "      <td>surprise</td>\n",
              "      <td>6</td>\n",
              "    </tr>\n",
              "  </tbody>\n",
              "</table>\n",
              "</div>"
            ],
            "text/plain": [
              "                                           Utterance   Emotion  Label\n",
              "0  also I was the point person on my company’s tr...   neutral      0\n",
              "1                   You must’ve had your hands full.   neutral      0\n",
              "2                            That I did. That I did.   neutral      0\n",
              "3      So let’s talk a little bit about your duties.   neutral      0\n",
              "4                             My duties?  All right.  surprise      6"
            ]
          },
          "metadata": {
            "tags": []
          },
          "execution_count": 9
        }
      ]
    },
    {
      "cell_type": "code",
      "metadata": {
        "id": "kTmY415YP5hR"
      },
      "source": [
        "df_0 = df[df.Emotion==0]"
      ],
      "execution_count": null,
      "outputs": []
    },
    {
      "cell_type": "code",
      "metadata": {
        "id": "SdeUrMbFP5hR"
      },
      "source": [
        "df_1 = df[df.Emotion==1]"
      ],
      "execution_count": null,
      "outputs": []
    },
    {
      "cell_type": "code",
      "metadata": {
        "colab": {
          "base_uri": "https://localhost:8080/",
          "height": 204
        },
        "id": "5UWqN7TqP5hR",
        "outputId": "982a0965-4af6-443b-d2e9-8ff7b22d7551"
      },
      "source": [
        "df_1.head()"
      ],
      "execution_count": null,
      "outputs": [
        {
          "output_type": "execute_result",
          "data": {
            "text/html": [
              "<div>\n",
              "<style scoped>\n",
              "    .dataframe tbody tr th:only-of-type {\n",
              "        vertical-align: middle;\n",
              "    }\n",
              "\n",
              "    .dataframe tbody tr th {\n",
              "        vertical-align: top;\n",
              "    }\n",
              "\n",
              "    .dataframe thead th {\n",
              "        text-align: right;\n",
              "    }\n",
              "</style>\n",
              "<table border=\"1\" class=\"dataframe\">\n",
              "  <thead>\n",
              "    <tr style=\"text-align: right;\">\n",
              "      <th></th>\n",
              "      <th>Emotion</th>\n",
              "      <th>Text</th>\n",
              "    </tr>\n",
              "  </thead>\n",
              "  <tbody>\n",
              "    <tr>\n",
              "      <th>491</th>\n",
              "      <td>1</td>\n",
              "      <td>I'll never ever work together with him !</td>\n",
              "    </tr>\n",
              "    <tr>\n",
              "      <th>493</th>\n",
              "      <td>1</td>\n",
              "      <td>Will you take my materials back from him for ...</td>\n",
              "    </tr>\n",
              "    <tr>\n",
              "      <th>495</th>\n",
              "      <td>1</td>\n",
              "      <td>Oh , my God ! I've been cheated !</td>\n",
              "    </tr>\n",
              "    <tr>\n",
              "      <th>497</th>\n",
              "      <td>1</td>\n",
              "      <td>It's a brick ! I can't believe how stupid I w...</td>\n",
              "    </tr>\n",
              "    <tr>\n",
              "      <th>499</th>\n",
              "      <td>1</td>\n",
              "      <td>There was a guy on the sidewalk.He had three ...</td>\n",
              "    </tr>\n",
              "  </tbody>\n",
              "</table>\n",
              "</div>"
            ],
            "text/plain": [
              "     Emotion                                               Text\n",
              "491        1          I'll never ever work together with him ! \n",
              "493        1   Will you take my materials back from him for ...\n",
              "495        1                 Oh , my God ! I've been cheated ! \n",
              "497        1   It's a brick ! I can't believe how stupid I w...\n",
              "499        1   There was a guy on the sidewalk.He had three ..."
            ]
          },
          "metadata": {
            "tags": []
          },
          "execution_count": 81
        }
      ]
    },
    {
      "cell_type": "code",
      "metadata": {
        "id": "QD7f-SsGP5hR"
      },
      "source": [
        "df_2 = df[df.Emotion==2]"
      ],
      "execution_count": null,
      "outputs": []
    },
    {
      "cell_type": "code",
      "metadata": {
        "colab": {
          "base_uri": "https://localhost:8080/",
          "height": 204
        },
        "id": "LKHNI_mUP5hR",
        "outputId": "7f0bfb60-b3b1-4d79-eca6-d649e9257e48"
      },
      "source": [
        "df_2.head()"
      ],
      "execution_count": null,
      "outputs": [
        {
          "output_type": "execute_result",
          "data": {
            "text/html": [
              "<div>\n",
              "<style scoped>\n",
              "    .dataframe tbody tr th:only-of-type {\n",
              "        vertical-align: middle;\n",
              "    }\n",
              "\n",
              "    .dataframe tbody tr th {\n",
              "        vertical-align: top;\n",
              "    }\n",
              "\n",
              "    .dataframe thead th {\n",
              "        text-align: right;\n",
              "    }\n",
              "</style>\n",
              "<table border=\"1\" class=\"dataframe\">\n",
              "  <thead>\n",
              "    <tr style=\"text-align: right;\">\n",
              "      <th></th>\n",
              "      <th>Emotion</th>\n",
              "      <th>Text</th>\n",
              "    </tr>\n",
              "  </thead>\n",
              "  <tbody>\n",
              "    <tr>\n",
              "      <th>419</th>\n",
              "      <td>2</td>\n",
              "      <td>Oh , no !</td>\n",
              "    </tr>\n",
              "    <tr>\n",
              "      <th>420</th>\n",
              "      <td>2</td>\n",
              "      <td>How dreadful !</td>\n",
              "    </tr>\n",
              "    <tr>\n",
              "      <th>422</th>\n",
              "      <td>2</td>\n",
              "      <td>Oh , dear . That ’ s terrible . Not at all wh...</td>\n",
              "    </tr>\n",
              "    <tr>\n",
              "      <th>423</th>\n",
              "      <td>2</td>\n",
              "      <td>It ’ s awful , isn ’ t it ?</td>\n",
              "    </tr>\n",
              "    <tr>\n",
              "      <th>424</th>\n",
              "      <td>2</td>\n",
              "      <td>I can ’ t bear to look at it . I ’ m rather d...</td>\n",
              "    </tr>\n",
              "  </tbody>\n",
              "</table>\n",
              "</div>"
            ],
            "text/plain": [
              "     Emotion                                               Text\n",
              "419        2                                         Oh , no ! \n",
              "420        2                                    How dreadful ! \n",
              "422        2   Oh , dear . That ’ s terrible . Not at all wh...\n",
              "423        2                       It ’ s awful , isn ’ t it ? \n",
              "424        2   I can ’ t bear to look at it . I ’ m rather d..."
            ]
          },
          "metadata": {
            "tags": []
          },
          "execution_count": 83
        }
      ]
    },
    {
      "cell_type": "code",
      "metadata": {
        "id": "dOUyyXJ7P5hS"
      },
      "source": [
        "df_3 = df[df.Emotion==3]\n",
        "df_4 = df[df.Emotion==4]\n",
        "df_5 = df[df.Emotion==5]\n",
        "df_6 = df[df.Emotion==6]"
      ],
      "execution_count": null,
      "outputs": []
    },
    {
      "cell_type": "code",
      "metadata": {
        "id": "KQGQqZkQG_wq"
      },
      "source": [
        "#df.Label.value_counts()"
      ],
      "execution_count": null,
      "outputs": []
    },
    {
      "cell_type": "code",
      "metadata": {
        "id": "N9MCp-HlP5hS"
      },
      "source": [
        "df_0_sampled = df_0.sample(5000)\n",
        "df_4_sampled = df_4.sample(5000)"
      ],
      "execution_count": null,
      "outputs": []
    },
    {
      "cell_type": "code",
      "metadata": {
        "id": "AGya2Tx0P5hS"
      },
      "source": [
        "# Sampled data\n",
        "df_new = pd.concat([df_0_sampled, df_1, df_2, df_3, df_4_sampled, df_5, df_6], axis=0)"
      ],
      "execution_count": null,
      "outputs": []
    },
    {
      "cell_type": "code",
      "metadata": {
        "colab": {
          "base_uri": "https://localhost:8080/"
        },
        "id": "zT7PEm5GP5hS",
        "outputId": "a8a7c4bf-071f-4702-ef4a-b038aafd362e"
      },
      "source": [
        "df_new = df.copy()\n",
        "df_new.shape"
      ],
      "execution_count": null,
      "outputs": [
        {
          "output_type": "execute_result",
          "data": {
            "text/plain": [
              "(9989, 3)"
            ]
          },
          "metadata": {
            "tags": []
          },
          "execution_count": 10
        }
      ]
    },
    {
      "cell_type": "code",
      "metadata": {
        "colab": {
          "base_uri": "https://localhost:8080/",
          "height": 265
        },
        "id": "Ja3Xn-EuP5hS",
        "outputId": "a2e80d71-bf3f-4942-d46e-d419d3083d1c"
      },
      "source": [
        "df_new.Emotion.hist()\n",
        "plt.show()"
      ],
      "execution_count": null,
      "outputs": [
        {
          "output_type": "display_data",
          "data": {
            "image/png": "[encoded data removed]",
            "text/plain": [
              "<Figure size 432x288 with 1 Axes>"
            ]
          },
          "metadata": {
            "tags": [],
            "needs_background": "light"
          }
        }
      ]
    },
    {
      "cell_type": "code",
      "metadata": {
        "id": "0GH_GsrEP5hS"
      },
      "source": [
        "df_new = df_new.sample(frac=1).reset_index(drop=True)"
      ],
      "execution_count": null,
      "outputs": []
    },
    {
      "cell_type": "code",
      "metadata": {
        "colab": {
          "base_uri": "https://localhost:8080/",
          "height": 204
        },
        "id": "B7ISJ8XJP5hS",
        "outputId": "8dea1d19-3b33-4385-c4ab-8cc320bb1745"
      },
      "source": [
        "df_new.head()"
      ],
      "execution_count": null,
      "outputs": [
        {
          "output_type": "execute_result",
          "data": {
            "text/html": [
              "<div>\n",
              "<style scoped>\n",
              "    .dataframe tbody tr th:only-of-type {\n",
              "        vertical-align: middle;\n",
              "    }\n",
              "\n",
              "    .dataframe tbody tr th {\n",
              "        vertical-align: top;\n",
              "    }\n",
              "\n",
              "    .dataframe thead th {\n",
              "        text-align: right;\n",
              "    }\n",
              "</style>\n",
              "<table border=\"1\" class=\"dataframe\">\n",
              "  <thead>\n",
              "    <tr style=\"text-align: right;\">\n",
              "      <th></th>\n",
              "      <th>Utterance</th>\n",
              "      <th>Emotion</th>\n",
              "      <th>Label</th>\n",
              "    </tr>\n",
              "  </thead>\n",
              "  <tbody>\n",
              "    <tr>\n",
              "      <th>0</th>\n",
              "      <td>: Oh yeah, of course you don’t!</td>\n",
              "      <td>anger</td>\n",
              "      <td>1</td>\n",
              "    </tr>\n",
              "    <tr>\n",
              "      <th>1</th>\n",
              "      <td>Oh gosh!</td>\n",
              "      <td>surprise</td>\n",
              "      <td>6</td>\n",
              "    </tr>\n",
              "    <tr>\n",
              "      <th>2</th>\n",
              "      <td>Just listen, Monica, I, do you know, okay, do ...</td>\n",
              "      <td>neutral</td>\n",
              "      <td>0</td>\n",
              "    </tr>\n",
              "    <tr>\n",
              "      <th>3</th>\n",
              "      <td>Enough!</td>\n",
              "      <td>anger</td>\n",
              "      <td>1</td>\n",
              "    </tr>\n",
              "    <tr>\n",
              "      <th>4</th>\n",
              "      <td>So what are you saying? It’s now or never?</td>\n",
              "      <td>anger</td>\n",
              "      <td>1</td>\n",
              "    </tr>\n",
              "  </tbody>\n",
              "</table>\n",
              "</div>"
            ],
            "text/plain": [
              "                                           Utterance   Emotion  Label\n",
              "0                    : Oh yeah, of course you don’t!     anger      1\n",
              "1                                           Oh gosh!  surprise      6\n",
              "2  Just listen, Monica, I, do you know, okay, do ...   neutral      0\n",
              "3                                            Enough!     anger      1\n",
              "4         So what are you saying? It’s now or never?     anger      1"
            ]
          },
          "metadata": {
            "tags": []
          },
          "execution_count": 13
        }
      ]
    },
    {
      "cell_type": "code",
      "metadata": {
        "colab": {
          "base_uri": "https://localhost:8080/"
        },
        "id": "-V1udYHrP5hS",
        "outputId": "04436f67-30cf-4fa6-b6d2-3c7301afda41"
      },
      "source": [
        "df_new.isnull().sum()"
      ],
      "execution_count": null,
      "outputs": [
        {
          "output_type": "execute_result",
          "data": {
            "text/plain": [
              "Emotion    0\n",
              "Text       0\n",
              "dtype: int64"
            ]
          },
          "metadata": {
            "tags": []
          },
          "execution_count": 92
        }
      ]
    },
    {
      "cell_type": "code",
      "metadata": {
        "id": "xktSptBdP5hT"
      },
      "source": [
        "appos = {\n",
        "\"aren't\" : \"are not\",\n",
        "\"can't\" : \"cannot\",\n",
        "\"couldn't\" : \"could not\",\n",
        "\"didn't\" : \"did not\",\n",
        "\"doesn't\" : \"does not\",\n",
        "\"don't\" : \"do not\",\n",
        "\"hadn't\" : \"had not\",\n",
        "\"hasn't\" : \"has not\",\n",
        "\"haven't\" : \"have not\",\n",
        "\"he'd\" : \"he would\",\n",
        "\"he'll\" : \"he will\",\n",
        "\"he's\" : \"he is\",\n",
        "\"i'd\" : \"I would\",\n",
        "\"i'd\" : \"I had\",\n",
        "\"i'll\" : \"I will\",\n",
        "\"i'm\" : \"I am\",\n",
        "\"isn't\" : \"is not\",\n",
        "\"it's\" : \"it is\",\n",
        "\"it'll\":\"it will\",\n",
        "\"i've\" : \"I have\",\n",
        "\"let's\" : \"let us\",\n",
        "\"mightn't\" : \"might not\",\n",
        "\"mustn't\" : \"must not\",\n",
        "\"shan't\" : \"shall not\",\n",
        "\"she'd\" : \"she would\",\n",
        "\"she'll\" : \"she will\",\n",
        "\"she's\" : \"she is\",\n",
        "\"shouldn't\" : \"should not\",\n",
        "\"that's\" : \"that is\",\n",
        "\"there's\" : \"there is\",\n",
        "\"they'd\" : \"they would\",\n",
        "\"they'll\" : \"they will\",\n",
        "\"they're\" : \"they are\",\n",
        "\"they've\" : \"they have\",\n",
        "\"we'd\" : \"we would\",\n",
        "\"we're\" : \"we are\",\n",
        "\"weren't\" : \"were not\",\n",
        "\"we've\" : \"we have\",\n",
        "\"what'll\" : \"what will\",\n",
        "\"what're\" : \"what are\",\n",
        "\"what's\" : \"what is\",\n",
        "\"what've\" : \"what have\",\n",
        "\"where's\" : \"where is\",\n",
        "\"who'd\" : \"who would\",\n",
        "\"who'll\" : \"who will\",\n",
        "\"who're\" : \"who are\",\n",
        "\"who's\" : \"who is\",\n",
        "\"who've\" : \"who have\",\n",
        "\"won't\" : \"will not\",\n",
        "\"wouldn't\" : \"would not\",\n",
        "\"you'd\" : \"you would\",\n",
        "\"you'll\" : \"you will\",\n",
        "\"you're\" : \"you are\",\n",
        "\"you've\" : \"you have\",\n",
        "\"'re\": \" are\",\n",
        "\"wasn't\": \"was not\",\n",
        "\"we'll\":\" will\",\n",
        "\"didn't\": \"did not\"\n",
        "}"
      ],
      "execution_count": null,
      "outputs": []
    },
    {
      "cell_type": "code",
      "metadata": {
        "id": "ruv_RT5nP5hT"
      },
      "source": [
        "def clean_text(words):\n",
        "    words = re.sub(r'http\\S+', '', str(words))\n",
        "    words = words.lower()\n",
        "    words = word_tokenize(words)\n",
        "    words = [word for word in words if word.isalpha()]\n",
        "    reformed = [appos[word] if word in appos else word for word in words]\n",
        "    reformed = [lemmatizer.lemmatize(word) for word in reformed if word not in set(stop_words)]\n",
        "    reformed = [word for word in reformed if len(word) > 2]\n",
        "    reformed = ' '.join(reformed)\n",
        "    return reformed\n",
        "\n",
        "#df_new['CleanText'] = df_new['Text'].apply(clean_text)\n",
        "df_new['CleanText'] = df_new['Utterance'].apply(clean_text)"
      ],
      "execution_count": null,
      "outputs": []
    },
    {
      "cell_type": "code",
      "metadata": {
        "colab": {
          "base_uri": "https://localhost:8080/",
          "height": 204
        },
        "id": "y4TQ09uRP5hT",
        "outputId": "19e6d474-53e8-47a7-b5a5-b613ee61bf1c"
      },
      "source": [
        "df_new.head()"
      ],
      "execution_count": null,
      "outputs": [
        {
          "output_type": "execute_result",
          "data": {
            "text/html": [
              "<div>\n",
              "<style scoped>\n",
              "    .dataframe tbody tr th:only-of-type {\n",
              "        vertical-align: middle;\n",
              "    }\n",
              "\n",
              "    .dataframe tbody tr th {\n",
              "        vertical-align: top;\n",
              "    }\n",
              "\n",
              "    .dataframe thead th {\n",
              "        text-align: right;\n",
              "    }\n",
              "</style>\n",
              "<table border=\"1\" class=\"dataframe\">\n",
              "  <thead>\n",
              "    <tr style=\"text-align: right;\">\n",
              "      <th></th>\n",
              "      <th>Emotion</th>\n",
              "      <th>Text</th>\n",
              "      <th>CleanText</th>\n",
              "    </tr>\n",
              "  </thead>\n",
              "  <tbody>\n",
              "    <tr>\n",
              "      <th>0</th>\n",
              "      <td>5</td>\n",
              "      <td>I've made a tough decision , sir . Here's my ...</td>\n",
              "      <td>[made, tough, decision, sir, resignation]</td>\n",
              "    </tr>\n",
              "    <tr>\n",
              "      <th>1</th>\n",
              "      <td>0</td>\n",
              "      <td>What are you going to do to it ?</td>\n",
              "      <td>[going]</td>\n",
              "    </tr>\n",
              "    <tr>\n",
              "      <th>2</th>\n",
              "      <td>2</td>\n",
              "      <td>Oh , don't talk to me about yesterday ! It wa...</td>\n",
              "      <td>[talk, yesterday, awful, evening, ever]</td>\n",
              "    </tr>\n",
              "    <tr>\n",
              "      <th>3</th>\n",
              "      <td>6</td>\n",
              "      <td>Really ? Then what do you do with it ?</td>\n",
              "      <td>[really]</td>\n",
              "    </tr>\n",
              "    <tr>\n",
              "      <th>4</th>\n",
              "      <td>0</td>\n",
              "      <td>No , I really must go now.My family are expec...</td>\n",
              "      <td>[really, must, family, expecting, home, soon]</td>\n",
              "    </tr>\n",
              "  </tbody>\n",
              "</table>\n",
              "</div>"
            ],
            "text/plain": [
              "   Emotion  ...                                      CleanText\n",
              "0        5  ...      [made, tough, decision, sir, resignation]\n",
              "1        0  ...                                        [going]\n",
              "2        2  ...        [talk, yesterday, awful, evening, ever]\n",
              "3        6  ...                                       [really]\n",
              "4        0  ...  [really, must, family, expecting, home, soon]\n",
              "\n",
              "[5 rows x 3 columns]"
            ]
          },
          "metadata": {
            "tags": []
          },
          "execution_count": 95
        }
      ]
    },
    {
      "cell_type": "code",
      "metadata": {
        "id": "ceIrM3pwP5hT"
      },
      "source": [
        "def clean_text(words):\n",
        "    #words = re.sub(r'http\\S+', '', words)\n",
        "    words = words.lower()\n",
        "    words = word_tokenize(words)\n",
        "    words = [word for word in words if word.isalpha()]\n",
        "    reformed = [appos[word] if word in appos else word for word in words]\n",
        "    reformed = [lemmatizer.lemmatize(word) for word in reformed]\n",
        "    #reformed = [word for word in reformed if len(word) > 2]\n",
        "    #reformed = ' '.join(reformed)\n",
        "    return reformed\n",
        "\n",
        "df_new['CleanText_2'] = df_new['Text'].apply(clean_text)"
      ],
      "execution_count": null,
      "outputs": []
    },
    {
      "cell_type": "code",
      "metadata": {
        "colab": {
          "base_uri": "https://localhost:8080/",
          "height": 204
        },
        "id": "aM2U5IvyP5hT",
        "outputId": "5fd53d53-d8be-49a6-b5e9-742a41f861a2"
      },
      "source": [
        "df_new.head()"
      ],
      "execution_count": null,
      "outputs": [
        {
          "output_type": "execute_result",
          "data": {
            "text/html": [
              "<div>\n",
              "<style scoped>\n",
              "    .dataframe tbody tr th:only-of-type {\n",
              "        vertical-align: middle;\n",
              "    }\n",
              "\n",
              "    .dataframe tbody tr th {\n",
              "        vertical-align: top;\n",
              "    }\n",
              "\n",
              "    .dataframe thead th {\n",
              "        text-align: right;\n",
              "    }\n",
              "</style>\n",
              "<table border=\"1\" class=\"dataframe\">\n",
              "  <thead>\n",
              "    <tr style=\"text-align: right;\">\n",
              "      <th></th>\n",
              "      <th>Utterance</th>\n",
              "      <th>Emotion</th>\n",
              "      <th>Label</th>\n",
              "      <th>CleanText</th>\n",
              "    </tr>\n",
              "  </thead>\n",
              "  <tbody>\n",
              "    <tr>\n",
              "      <th>0</th>\n",
              "      <td>: Oh yeah, of course you don’t!</td>\n",
              "      <td>anger</td>\n",
              "      <td>1</td>\n",
              "      <td>yeah course</td>\n",
              "    </tr>\n",
              "    <tr>\n",
              "      <th>1</th>\n",
              "      <td>Oh gosh!</td>\n",
              "      <td>surprise</td>\n",
              "      <td>6</td>\n",
              "      <td>gosh</td>\n",
              "    </tr>\n",
              "    <tr>\n",
              "      <th>2</th>\n",
              "      <td>Just listen, Monica, I, do you know, okay, do ...</td>\n",
              "      <td>neutral</td>\n",
              "      <td>0</td>\n",
              "      <td>listen monica know okay know sleep like month ...</td>\n",
              "    </tr>\n",
              "    <tr>\n",
              "      <th>3</th>\n",
              "      <td>Enough!</td>\n",
              "      <td>anger</td>\n",
              "      <td>1</td>\n",
              "      <td>enough</td>\n",
              "    </tr>\n",
              "    <tr>\n",
              "      <th>4</th>\n",
              "      <td>So what are you saying? It’s now or never?</td>\n",
              "      <td>anger</td>\n",
              "      <td>1</td>\n",
              "      <td>saying never</td>\n",
              "    </tr>\n",
              "  </tbody>\n",
              "</table>\n",
              "</div>"
            ],
            "text/plain": [
              "                                           Utterance  ...                                          CleanText\n",
              "0                    : Oh yeah, of course you don’t!  ...                                        yeah course\n",
              "1                                           Oh gosh!  ...                                               gosh\n",
              "2  Just listen, Monica, I, do you know, okay, do ...  ...  listen monica know okay know sleep like month ...\n",
              "3                                            Enough!  ...                                             enough\n",
              "4         So what are you saying? It’s now or never?  ...                                       saying never\n",
              "\n",
              "[5 rows x 4 columns]"
            ]
          },
          "metadata": {
            "tags": []
          },
          "execution_count": 22
        }
      ]
    },
    {
      "cell_type": "code",
      "metadata": {
        "id": "7ss-I13jP5hT"
      },
      "source": [
        "all_words = []\n",
        "\n",
        "for sentence in df_new['CleanText']:\n",
        "    for word in sentence:\n",
        "        all_words.append(word)"
      ],
      "execution_count": null,
      "outputs": []
    },
    {
      "cell_type": "code",
      "metadata": {
        "colab": {
          "base_uri": "https://localhost:8080/"
        },
        "id": "Bz6p4sVBP5hT",
        "outputId": "4c8dc120-5d33-4cf5-fde0-2da1427f7110"
      },
      "source": [
        "len(all_words)"
      ],
      "execution_count": null,
      "outputs": [
        {
          "output_type": "execute_result",
          "data": {
            "text/plain": [
              "193646"
            ]
          },
          "metadata": {
            "tags": []
          },
          "execution_count": 24
        }
      ]
    },
    {
      "cell_type": "code",
      "metadata": {
        "id": "jphZVrN_P5hT"
      },
      "source": [
        "all_words = nltk.FreqDist(all_words)"
      ],
      "execution_count": null,
      "outputs": []
    },
    {
      "cell_type": "code",
      "metadata": {
        "id": "14yyUXzDP5hT"
      },
      "source": [
        "word_features = list(all_words.keys())[:3000]"
      ],
      "execution_count": null,
      "outputs": []
    },
    {
      "cell_type": "code",
      "metadata": {
        "id": "L8EQ2NKBP5hT"
      },
      "source": [
        "def find_features(document):\n",
        "    words = set(document)\n",
        "    features = {}\n",
        "    for w in word_features:\n",
        "        features[w] = (w in words)\n",
        "    return features    "
      ],
      "execution_count": null,
      "outputs": []
    },
    {
      "cell_type": "code",
      "metadata": {
        "colab": {
          "base_uri": "https://localhost:8080/"
        },
        "id": "7ilIbrRpP5hT",
        "outputId": "837be8f2-f39e-42f0-e150-7152ac47ddcb"
      },
      "source": [
        "df_new.shape"
      ],
      "execution_count": null,
      "outputs": [
        {
          "output_type": "execute_result",
          "data": {
            "text/plain": [
              "(9989, 4)"
            ]
          },
          "metadata": {
            "tags": []
          },
          "execution_count": 28
        }
      ]
    },
    {
      "cell_type": "code",
      "metadata": {
        "id": "rUjr5JsYP5hT"
      },
      "source": [
        "#featuresets = [find_features(sentence) for sentence in X]\n",
        "training_set = []\n",
        "for i in range(0,9899):\n",
        "    training_set.append((find_features(df_new['CleanText'][i]), df_new['Label'][i]))"
      ],
      "execution_count": null,
      "outputs": []
    },
    {
      "cell_type": "code",
      "metadata": {
        "colab": {
          "base_uri": "https://localhost:8080/"
        },
        "id": "lCmNGGUvnpPE",
        "outputId": "deb240b6-2325-4d2c-fed2-632e8534cc2a"
      },
      "source": [
        "dev.shape"
      ],
      "execution_count": null,
      "outputs": [
        {
          "output_type": "execute_result",
          "data": {
            "text/plain": [
              "(1109, 11)"
            ]
          },
          "metadata": {
            "tags": []
          },
          "execution_count": 32
        }
      ]
    },
    {
      "cell_type": "code",
      "metadata": {
        "id": "HjC8nHMCoCbz"
      },
      "source": [
        "dev['Label'] = dev['Emotion'].apply(LabelFunc)"
      ],
      "execution_count": null,
      "outputs": []
    },
    {
      "cell_type": "code",
      "metadata": {
        "colab": {
          "base_uri": "https://localhost:8080/",
          "height": 204
        },
        "id": "SnaKtFsvoCiw",
        "outputId": "abee3282-c9a5-42e8-cfed-3dafee492d45"
      },
      "source": [
        "dev = dev[['Utterance','Emotion','Label']]\n",
        "dev.head()"
      ],
      "execution_count": null,
      "outputs": [
        {
          "output_type": "execute_result",
          "data": {
            "text/html": [
              "<div>\n",
              "<style scoped>\n",
              "    .dataframe tbody tr th:only-of-type {\n",
              "        vertical-align: middle;\n",
              "    }\n",
              "\n",
              "    .dataframe tbody tr th {\n",
              "        vertical-align: top;\n",
              "    }\n",
              "\n",
              "    .dataframe thead th {\n",
              "        text-align: right;\n",
              "    }\n",
              "</style>\n",
              "<table border=\"1\" class=\"dataframe\">\n",
              "  <thead>\n",
              "    <tr style=\"text-align: right;\">\n",
              "      <th></th>\n",
              "      <th>Utterance</th>\n",
              "      <th>Emotion</th>\n",
              "      <th>Label</th>\n",
              "    </tr>\n",
              "  </thead>\n",
              "  <tbody>\n",
              "    <tr>\n",
              "      <th>0</th>\n",
              "      <td>Oh my God, he’s lost it. He’s totally lost it.</td>\n",
              "      <td>sadness</td>\n",
              "      <td>5</td>\n",
              "    </tr>\n",
              "    <tr>\n",
              "      <th>1</th>\n",
              "      <td>What?</td>\n",
              "      <td>surprise</td>\n",
              "      <td>6</td>\n",
              "    </tr>\n",
              "    <tr>\n",
              "      <th>2</th>\n",
              "      <td>Or! Or, we could go to the bank, close our acc...</td>\n",
              "      <td>neutral</td>\n",
              "      <td>0</td>\n",
              "    </tr>\n",
              "    <tr>\n",
              "      <th>3</th>\n",
              "      <td>You’re a genius!</td>\n",
              "      <td>joy</td>\n",
              "      <td>4</td>\n",
              "    </tr>\n",
              "    <tr>\n",
              "      <th>4</th>\n",
              "      <td>Aww, man, now we won’t be bank buddies!</td>\n",
              "      <td>sadness</td>\n",
              "      <td>5</td>\n",
              "    </tr>\n",
              "  </tbody>\n",
              "</table>\n",
              "</div>"
            ],
            "text/plain": [
              "                                           Utterance   Emotion  Label\n",
              "0     Oh my God, he’s lost it. He’s totally lost it.   sadness      5\n",
              "1                                              What?  surprise      6\n",
              "2  Or! Or, we could go to the bank, close our acc...   neutral      0\n",
              "3                                   You’re a genius!       joy      4\n",
              "4            Aww, man, now we won’t be bank buddies!   sadness      5"
            ]
          },
          "metadata": {
            "tags": []
          },
          "execution_count": 34
        }
      ]
    },
    {
      "cell_type": "code",
      "metadata": {
        "id": "ubHbY9pgoCpB"
      },
      "source": [
        "def clean_text(words):\n",
        "    words = re.sub(r'http\\S+', '', str(words))\n",
        "    words = words.lower()\n",
        "    words = word_tokenize(words)\n",
        "    words = [word for word in words if word.isalpha()]\n",
        "    reformed = [appos[word] if word in appos else word for word in words]\n",
        "    reformed = [lemmatizer.lemmatize(word) for word in reformed if word not in set(stop_words)]\n",
        "    reformed = [word for word in reformed if len(word) > 2]\n",
        "    reformed = ' '.join(reformed)\n",
        "    return reformed\n",
        "\n",
        "dev['CleanText'] = dev['Utterance'].apply(clean_text)"
      ],
      "execution_count": null,
      "outputs": []
    },
    {
      "cell_type": "code",
      "metadata": {
        "id": "bwQ5GQ0poCsB"
      },
      "source": [
        "testing_set = []\n",
        "for i in range(0,1109):\n",
        "    testing_set.append((find_features(dev['CleanText'][i]), dev['Label'][i]))"
      ],
      "execution_count": null,
      "outputs": []
    },
    {
      "cell_type": "code",
      "metadata": {
        "id": "8AvJAxwzoCuD"
      },
      "source": [
        ""
      ],
      "execution_count": null,
      "outputs": []
    },
    {
      "cell_type": "code",
      "metadata": {
        "id": "DEMU-NaDoCxE"
      },
      "source": [
        ""
      ],
      "execution_count": null,
      "outputs": []
    },
    {
      "cell_type": "code",
      "metadata": {
        "id": "SAK3Y75koC5x"
      },
      "source": [
        ""
      ],
      "execution_count": null,
      "outputs": []
    },
    {
      "cell_type": "code",
      "metadata": {
        "id": "G4jWfWvtP5hT"
      },
      "source": [
        "#training_set = featuresets[:13500]\n",
        "#testing_set = featuresets[13500:]"
      ],
      "execution_count": null,
      "outputs": []
    },
    {
      "cell_type": "code",
      "metadata": {
        "id": "LXc3dSlhP5hT"
      },
      "source": [
        "classifier = nltk.NaiveBayesClassifier.train(training_set)"
      ],
      "execution_count": null,
      "outputs": []
    },
    {
      "cell_type": "code",
      "metadata": {
        "colab": {
          "base_uri": "https://localhost:8080/"
        },
        "id": "EH4Pf1rlP5hT",
        "outputId": "15713e8f-0fe4-4a6b-c2ee-f0332a8805ca"
      },
      "source": [
        "print(\"Naive Bayes Algo accuracy:\", (nltk.classify.accuracy(classifier, testing_set))*100)"
      ],
      "execution_count": null,
      "outputs": [
        {
          "output_type": "stream",
          "text": [
            "Naive Bayes Algo accuracy: 31.379621280432822\n"
          ],
          "name": "stdout"
        }
      ]
    },
    {
      "cell_type": "code",
      "metadata": {
        "colab": {
          "base_uri": "https://localhost:8080/"
        },
        "id": "92_Mo4BrP5hT",
        "outputId": "de236247-c4c6-4cf9-9b8c-54442b2a0fb7"
      },
      "source": [
        "classifier.show_most_informative_features(15)"
      ],
      "execution_count": null,
      "outputs": [
        {
          "output_type": "stream",
          "text": [
            "Most Informative Features\n",
            "                       q = True                1 : 6      =      2.9 : 1.0\n",
            "                         = False               6 : 5      =      2.6 : 1.0\n",
            "                       f = True                1 : 6      =      2.2 : 1.0\n",
            "                       v = True                2 : 3      =      2.0 : 1.0\n",
            "                       u = True                2 : 6      =      2.0 : 1.0\n",
            "                       s = True                5 : 6      =      2.0 : 1.0\n",
            "                       p = True                2 : 6      =      1.9 : 1.0\n",
            "                       z = True                2 : 0      =      1.9 : 1.0\n",
            "                       m = True                5 : 6      =      1.8 : 1.0\n",
            "                       e = False               6 : 2      =      1.8 : 1.0\n",
            "                       i = False               6 : 2      =      1.8 : 1.0\n",
            "                       x = True                2 : 6      =      1.7 : 1.0\n",
            "                       o = False               6 : 5      =      1.7 : 1.0\n",
            "                       t = True                2 : 6      =      1.7 : 1.0\n",
            "                       r = False               6 : 5      =      1.7 : 1.0\n"
          ],
          "name": "stdout"
        }
      ]
    },
    {
      "cell_type": "code",
      "metadata": {
        "id": "zIQjKvdhP5hU"
      },
      "source": [
        "from nltk.classify.scikitlearn import SklearnClassifier\n",
        "from sklearn.naive_bayes import MultinomialNB, GaussianNB, BernoulliNB"
      ],
      "execution_count": null,
      "outputs": []
    },
    {
      "cell_type": "code",
      "metadata": {
        "colab": {
          "base_uri": "https://localhost:8080/"
        },
        "id": "yU2hvC4DUykQ",
        "outputId": "b3ef03e0-6ba6-4910-8665-dc344c998369"
      },
      "source": [
        "MNB_classifier = SklearnClassifier(MultinomialNB())\n",
        "MNB_classifier.train(training_set)\n",
        "print(\"Multinomial NB Algo accuracy:\", (nltk.classify.accuracy(MNB_classifier, testing_set))*100) "
      ],
      "execution_count": null,
      "outputs": [
        {
          "output_type": "stream",
          "text": [
            "Multinomial NB Algo accuracy: 42.38052299368801\n"
          ],
          "name": "stdout"
        }
      ]
    },
    {
      "cell_type": "code",
      "metadata": {
        "colab": {
          "base_uri": "https://localhost:8080/"
        },
        "id": "SDVgMsvoW_mO",
        "outputId": "3a8ac9f9-ad6a-4ea5-9eae-72aa56b9599e"
      },
      "source": [
        "Bernoulli_classifier = SklearnClassifier(BernoulliNB())\n",
        "Bernoulli_classifier.train(training_set)\n",
        "print(\"Bernoulli NB Algo accuracy:\", (nltk.classify.accuracy(Bernoulli_classifier, testing_set))*100) "
      ],
      "execution_count": null,
      "outputs": [
        {
          "output_type": "stream",
          "text": [
            "Bernoulli NB Algo accuracy: 31.28944995491434\n"
          ],
          "name": "stdout"
        }
      ]
    },
    {
      "cell_type": "code",
      "metadata": {
        "id": "xuUoWBGtXbFE"
      },
      "source": [
        "from sklearn.svm import SVC, NuSVC"
      ],
      "execution_count": null,
      "outputs": []
    },
    {
      "cell_type": "code",
      "metadata": {
        "colab": {
          "base_uri": "https://localhost:8080/"
        },
        "id": "U8Mb-b3Ry_4E",
        "outputId": "5d1e53d4-51e8-4b21-a912-2c87d9c6b394"
      },
      "source": [
        "SVC_classifier = SklearnClassifier(SVC())\n",
        "SVC_classifier.train(training_set)\n",
        "print(\"SVC Algo accuracy:\", (nltk.classify.accuracy(SVC_classifier, testing_set))*100) "
      ],
      "execution_count": null,
      "outputs": [
        {
          "output_type": "stream",
          "text": [
            "SVC Algo accuracy: 44.2741208295762\n"
          ],
          "name": "stdout"
        }
      ]
    },
    {
      "cell_type": "code",
      "metadata": {
        "id": "IC9naU4T5IMz"
      },
      "source": [
        "from sklearn.ensemble import RandomForestClassifier"
      ],
      "execution_count": null,
      "outputs": []
    },
    {
      "cell_type": "code",
      "metadata": {
        "colab": {
          "base_uri": "https://localhost:8080/"
        },
        "id": "DAnAzgV97P9B",
        "outputId": "8978ad36-5f66-4bb0-e58d-657ee3b7f9d9"
      },
      "source": [
        "RF_classifier = SklearnClassifier(RandomForestClassifier(n_estimators = 70, criterion = 'entropy'))\n",
        "RF_classifier.train(training_set)\n",
        "print(\"RF Algo accuracy:\", (nltk.classify.accuracy(RF_classifier, testing_set))*100) "
      ],
      "execution_count": null,
      "outputs": [
        {
          "output_type": "stream",
          "text": [
            "RF Algo accuracy: 42.65103697024346\n"
          ],
          "name": "stdout"
        }
      ]
    },
    {
      "cell_type": "code",
      "metadata": {
        "colab": {
          "base_uri": "https://localhost:8080/",
          "height": 272
        },
        "id": "Rl4snzMAvidy",
        "outputId": "323efa9d-f06b-47c6-d295-19b7733cfccf"
      },
      "source": [
        "df_new.head()"
      ],
      "execution_count": null,
      "outputs": [
        {
          "output_type": "execute_result",
          "data": {
            "text/html": [
              "<div>\n",
              "<style scoped>\n",
              "    .dataframe tbody tr th:only-of-type {\n",
              "        vertical-align: middle;\n",
              "    }\n",
              "\n",
              "    .dataframe tbody tr th {\n",
              "        vertical-align: top;\n",
              "    }\n",
              "\n",
              "    .dataframe thead th {\n",
              "        text-align: right;\n",
              "    }\n",
              "</style>\n",
              "<table border=\"1\" class=\"dataframe\">\n",
              "  <thead>\n",
              "    <tr style=\"text-align: right;\">\n",
              "      <th></th>\n",
              "      <th>Emotion</th>\n",
              "      <th>Text</th>\n",
              "      <th>CleanText</th>\n",
              "      <th>CleanText_2</th>\n",
              "    </tr>\n",
              "  </thead>\n",
              "  <tbody>\n",
              "    <tr>\n",
              "      <th>0</th>\n",
              "      <td>5</td>\n",
              "      <td>I've made a tough decision , sir . Here's my ...</td>\n",
              "      <td>[made, tough, decision, sir, resignation]</td>\n",
              "      <td>[i, made, a, tough, decision, sir, here, my, r...</td>\n",
              "    </tr>\n",
              "    <tr>\n",
              "      <th>1</th>\n",
              "      <td>0</td>\n",
              "      <td>What are you going to do to it ?</td>\n",
              "      <td>[going]</td>\n",
              "      <td>[what, are, you, going, to, do, to, it]</td>\n",
              "    </tr>\n",
              "    <tr>\n",
              "      <th>2</th>\n",
              "      <td>2</td>\n",
              "      <td>Oh , don't talk to me about yesterday ! It wa...</td>\n",
              "      <td>[talk, yesterday, awful, evening, ever]</td>\n",
              "      <td>[oh, do, talk, to, me, about, yesterday, it, w...</td>\n",
              "    </tr>\n",
              "    <tr>\n",
              "      <th>3</th>\n",
              "      <td>6</td>\n",
              "      <td>Really ? Then what do you do with it ?</td>\n",
              "      <td>[really]</td>\n",
              "      <td>[really, then, what, do, you, do, with, it]</td>\n",
              "    </tr>\n",
              "    <tr>\n",
              "      <th>4</th>\n",
              "      <td>0</td>\n",
              "      <td>No , I really must go now.My family are expec...</td>\n",
              "      <td>[really, must, family, expecting, home, soon]</td>\n",
              "      <td>[no, i, really, must, go, family, are, expecti...</td>\n",
              "    </tr>\n",
              "  </tbody>\n",
              "</table>\n",
              "</div>"
            ],
            "text/plain": [
              "   Emotion  ...                                        CleanText_2\n",
              "0        5  ...  [i, made, a, tough, decision, sir, here, my, r...\n",
              "1        0  ...            [what, are, you, going, to, do, to, it]\n",
              "2        2  ...  [oh, do, talk, to, me, about, yesterday, it, w...\n",
              "3        6  ...        [really, then, what, do, you, do, with, it]\n",
              "4        0  ...  [no, i, really, must, go, family, are, expecti...\n",
              "\n",
              "[5 rows x 4 columns]"
            ]
          },
          "metadata": {
            "tags": []
          },
          "execution_count": 98
        }
      ]
    },
    {
      "cell_type": "code",
      "metadata": {
        "id": "zHGhcJL1vl4D"
      },
      "source": [
        "from sklearn.feature_extraction.text import TfidfVectorizer"
      ],
      "execution_count": null,
      "outputs": []
    },
    {
      "cell_type": "code",
      "metadata": {
        "id": "OdTqxthF7lx0"
      },
      "source": [
        "X = df_new.iloc[:, 2:3].values\n",
        "y = df_new.iloc[:,0:1].values"
      ],
      "execution_count": null,
      "outputs": []
    },
    {
      "cell_type": "code",
      "metadata": {
        "id": "urzJyuR9hYWF"
      },
      "source": [
        "from sklearn.model_selection import train_test_split\n",
        "X_train, X_test, y_train, y_test = train_test_split(X, y, test_size = 0.07, random_state = 0)"
      ],
      "execution_count": null,
      "outputs": []
    },
    {
      "cell_type": "code",
      "metadata": {
        "colab": {
          "base_uri": "https://localhost:8080/"
        },
        "id": "nibZY2_Uhlra",
        "outputId": "7ec7e722-e683-4dc7-cd4f-27ab0e833aa7"
      },
      "source": [
        "len(X_train)"
      ],
      "execution_count": null,
      "outputs": [
        {
          "output_type": "execute_result",
          "data": {
            "text/plain": [
              "13505"
            ]
          },
          "metadata": {
            "tags": []
          },
          "execution_count": 109
        }
      ]
    },
    {
      "cell_type": "code",
      "metadata": {
        "id": "yVEEVQGekVCz"
      },
      "source": [
        "all_sents = []\n",
        "for i in range(0,14522):\n",
        "  all_sents.append(df_new['Text'][i])"
      ],
      "execution_count": null,
      "outputs": []
    },
    {
      "cell_type": "code",
      "metadata": {
        "id": "XfG4SKCekphY"
      },
      "source": [
        "text_train = all_sents[:13500]\n",
        "text_test = all_sents[13500:]"
      ],
      "execution_count": null,
      "outputs": []
    },
    {
      "cell_type": "code",
      "metadata": {
        "id": "V2FP0aBGh4fd"
      },
      "source": [
        "tfidfvectorizer = TfidfVectorizer(analyzer='word' , stop_words='english',)\n",
        "tfidfvectorizer.fit(text_train)\n",
        "tfidf_train = tfidfvectorizer.transform(text_train)\n",
        "tfidf_term_vectors  = tfidfvectorizer.transform(text_test)"
      ],
      "execution_count": null,
      "outputs": []
    },
    {
      "cell_type": "code",
      "metadata": {
        "colab": {
          "base_uri": "https://localhost:8080/"
        },
        "id": "UhZpmh7viSTh",
        "outputId": "081c4f65-dc0e-4578-c9b1-634e61339581"
      },
      "source": [
        "tfidf_train.shape"
      ],
      "execution_count": null,
      "outputs": [
        {
          "output_type": "execute_result",
          "data": {
            "text/plain": [
              "(13500, 7618)"
            ]
          },
          "metadata": {
            "tags": []
          },
          "execution_count": 106
        }
      ]
    },
    {
      "cell_type": "code",
      "metadata": {
        "colab": {
          "base_uri": "https://localhost:8080/"
        },
        "id": "KWn_G3iCoYdW",
        "outputId": "bb16ce93-8753-4684-e2fa-da57871ab797"
      },
      "source": [
        "tfidf_term_vectors.shape"
      ],
      "execution_count": null,
      "outputs": [
        {
          "output_type": "execute_result",
          "data": {
            "text/plain": [
              "(1022, 7534)"
            ]
          },
          "metadata": {
            "tags": []
          },
          "execution_count": 42
        }
      ]
    },
    {
      "cell_type": "code",
      "metadata": {
        "id": "TFLCAkL8od67"
      },
      "source": [
        "tfidf_featuressets = []\n",
        "for i in range(0,13500):\n",
        "  tfidf_train[i] = tfidf_train[i].toarray()\n",
        "  tfidf_featuressets.append((tfidf_train[i], df_new['Emotion'][i]))"
      ],
      "execution_count": null,
      "outputs": []
    },
    {
      "cell_type": "code",
      "metadata": {
        "id": "_TIiYPtItPAx"
      },
      "source": [
        "tfidf_train = tfidf_train.toarray()"
      ],
      "execution_count": null,
      "outputs": []
    },
    {
      "cell_type": "code",
      "metadata": {
        "id": "iiCfXl6Uyhgc"
      },
      "source": [
        "training_tfidf = []\n",
        "i=0\n",
        "for line in tfidf_train:\n",
        "  line = list(line)\n",
        "  training_tfidf.append((line,df_new['Emotion'][i]))\n",
        "  i=i+1"
      ],
      "execution_count": null,
      "outputs": []
    },
    {
      "cell_type": "code",
      "metadata": {
        "colab": {
          "base_uri": "https://localhost:8080/",
          "height": 163
        },
        "id": "N-0QToogzTv9",
        "outputId": "f8ca3600-e893-46e5-a110-140850f53045"
      },
      "source": [
        "tfidf_term_vectors = tfidf_term_vectors.toarray()"
      ],
      "execution_count": null,
      "outputs": [
        {
          "output_type": "error",
          "ename": "AttributeError",
          "evalue": "ignored",
          "traceback": [
            "\u001b[0;31m---------------------------------------------------------------------------\u001b[0m",
            "\u001b[0;31mAttributeError\u001b[0m                            Traceback (most recent call last)",
            "\u001b[0;32m<ipython-input-63-2809448b4e6a>\u001b[0m in \u001b[0;36m<module>\u001b[0;34m()\u001b[0m\n\u001b[0;32m----> 1\u001b[0;31m \u001b[0mtfidf_term_vectors\u001b[0m \u001b[0;34m=\u001b[0m \u001b[0mtfidf_term_vectors\u001b[0m\u001b[0;34m.\u001b[0m\u001b[0mtoarray\u001b[0m\u001b[0;34m(\u001b[0m\u001b[0;34m)\u001b[0m\u001b[0;34m\u001b[0m\u001b[0;34m\u001b[0m\u001b[0m\n\u001b[0m",
            "\u001b[0;31mAttributeError\u001b[0m: 'numpy.ndarray' object has no attribute 'toarray'"
          ]
        }
      ]
    },
    {
      "cell_type": "code",
      "metadata": {
        "id": "afSFmZw4zb2O"
      },
      "source": [
        "testing_tfidf = []\n",
        "i=0\n",
        "for line in tfidf_term_vectors:\n",
        "  line = list(line)\n",
        "  testing_tfidf.append((line,df_new['Emotion'][i+13500]))\n",
        "  i=i+1"
      ],
      "execution_count": null,
      "outputs": []
    },
    {
      "cell_type": "code",
      "metadata": {
        "id": "J0_oo3_4pZdM"
      },
      "source": [
        "tfidf_test = []\n",
        "for i in range(0,1022):\n",
        "  tfidf_test.append((tfidf_term_vectors[i], df_new['Emotion'][i+13500]))"
      ],
      "execution_count": null,
      "outputs": []
    },
    {
      "cell_type": "code",
      "metadata": {
        "colab": {
          "base_uri": "https://localhost:8080/",
          "height": 316
        },
        "id": "55-bGcjXqFs2",
        "outputId": "34ee6795-9b9f-4b42-ccbb-80947c63532e"
      },
      "source": [
        "classifier = nltk.NaiveBayesClassifier.train(training_tfidf)\n",
        "print(\"Naive Bayes Algo accuracy:\", (nltk.classify.accuracy(classifier, testing_tfidf))*100)"
      ],
      "execution_count": null,
      "outputs": [
        {
          "output_type": "error",
          "ename": "AttributeError",
          "evalue": "ignored",
          "traceback": [
            "\u001b[0;31m---------------------------------------------------------------------------\u001b[0m",
            "\u001b[0;31mAttributeError\u001b[0m                            Traceback (most recent call last)",
            "\u001b[0;32m<ipython-input-62-d65d7377b9e5>\u001b[0m in \u001b[0;36m<module>\u001b[0;34m()\u001b[0m\n\u001b[0;32m----> 1\u001b[0;31m \u001b[0mclassifier\u001b[0m \u001b[0;34m=\u001b[0m \u001b[0mnltk\u001b[0m\u001b[0;34m.\u001b[0m\u001b[0mNaiveBayesClassifier\u001b[0m\u001b[0;34m.\u001b[0m\u001b[0mtrain\u001b[0m\u001b[0;34m(\u001b[0m\u001b[0mtraining_tfidf\u001b[0m\u001b[0;34m)\u001b[0m\u001b[0;34m\u001b[0m\u001b[0;34m\u001b[0m\u001b[0m\n\u001b[0m\u001b[1;32m      2\u001b[0m \u001b[0mprint\u001b[0m\u001b[0;34m(\u001b[0m\u001b[0;34m\"Naive Bayes Algo accuracy:\"\u001b[0m\u001b[0;34m,\u001b[0m \u001b[0;34m(\u001b[0m\u001b[0mnltk\u001b[0m\u001b[0;34m.\u001b[0m\u001b[0mclassify\u001b[0m\u001b[0;34m.\u001b[0m\u001b[0maccuracy\u001b[0m\u001b[0;34m(\u001b[0m\u001b[0mclassifier\u001b[0m\u001b[0;34m,\u001b[0m \u001b[0mtesting_tfidf\u001b[0m\u001b[0;34m)\u001b[0m\u001b[0;34m)\u001b[0m\u001b[0;34m*\u001b[0m\u001b[0;36m100\u001b[0m\u001b[0;34m)\u001b[0m\u001b[0;34m\u001b[0m\u001b[0;34m\u001b[0m\u001b[0m\n",
            "\u001b[0;32m/usr/local/lib/python3.6/dist-packages/nltk/classify/naivebayes.py\u001b[0m in \u001b[0;36mtrain\u001b[0;34m(cls, labeled_featuresets, estimator)\u001b[0m\n\u001b[1;32m    194\u001b[0m         \u001b[0;32mfor\u001b[0m \u001b[0mfeatureset\u001b[0m\u001b[0;34m,\u001b[0m \u001b[0mlabel\u001b[0m \u001b[0;32min\u001b[0m \u001b[0mlabeled_featuresets\u001b[0m\u001b[0;34m:\u001b[0m\u001b[0;34m\u001b[0m\u001b[0;34m\u001b[0m\u001b[0m\n\u001b[1;32m    195\u001b[0m             \u001b[0mlabel_freqdist\u001b[0m\u001b[0;34m[\u001b[0m\u001b[0mlabel\u001b[0m\u001b[0;34m]\u001b[0m \u001b[0;34m+=\u001b[0m \u001b[0;36m1\u001b[0m\u001b[0;34m\u001b[0m\u001b[0;34m\u001b[0m\u001b[0m\n\u001b[0;32m--> 196\u001b[0;31m             \u001b[0;32mfor\u001b[0m \u001b[0mfname\u001b[0m\u001b[0;34m,\u001b[0m \u001b[0mfval\u001b[0m \u001b[0;32min\u001b[0m \u001b[0mfeatureset\u001b[0m\u001b[0;34m.\u001b[0m\u001b[0mitems\u001b[0m\u001b[0;34m(\u001b[0m\u001b[0;34m)\u001b[0m\u001b[0;34m:\u001b[0m\u001b[0;34m\u001b[0m\u001b[0;34m\u001b[0m\u001b[0m\n\u001b[0m\u001b[1;32m    197\u001b[0m                 \u001b[0;31m# Increment freq(fval|label, fname)\u001b[0m\u001b[0;34m\u001b[0m\u001b[0;34m\u001b[0m\u001b[0;34m\u001b[0m\u001b[0m\n\u001b[1;32m    198\u001b[0m                 \u001b[0mfeature_freqdist\u001b[0m\u001b[0;34m[\u001b[0m\u001b[0mlabel\u001b[0m\u001b[0;34m,\u001b[0m \u001b[0mfname\u001b[0m\u001b[0;34m]\u001b[0m\u001b[0;34m[\u001b[0m\u001b[0mfval\u001b[0m\u001b[0;34m]\u001b[0m \u001b[0;34m+=\u001b[0m \u001b[0;36m1\u001b[0m\u001b[0;34m\u001b[0m\u001b[0;34m\u001b[0m\u001b[0m\n",
            "\u001b[0;31mAttributeError\u001b[0m: 'list' object has no attribute 'items'"
          ]
        }
      ]
    },
    {
      "cell_type": "code",
      "metadata": {
        "id": "mGgnszrWq4Pn"
      },
      "source": [
        ""
      ],
      "execution_count": null,
      "outputs": []
    }
  ]
}